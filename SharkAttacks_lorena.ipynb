{
 "cells": [
  {
   "cell_type": "markdown",
   "id": "0dde90dd-91dd-4b19-9d43-a4ba3ebd9e6c",
   "metadata": {},
   "source": [
    "# Dealing with dates and years"
   ]
  },
  {
   "cell_type": "code",
   "execution_count": 105,
   "id": "7e1a0e44-5eac-4b03-af0e-b8244fdc44bf",
   "metadata": {},
   "outputs": [],
   "source": [
    "import pandas as pd\n",
    "from datetime import datetime\n",
    "import re\n",
    "\n",
    "df = pd.read_excel(\"GSAF5.xls\")"
   ]
  },
  {
   "cell_type": "markdown",
   "id": "20ec9fc1-a8a5-422a-a4ed-da35df1a5ab5",
   "metadata": {},
   "source": [
    "## Normalize dates\n",
    "\n",
    "- `Reported` was removed from the date column\n",
    "- `Sept` is not an accepted `datetime` so it was replaced with `Sep`\n",
    "- There was a typo in one record `Nox` instead of `Nov`"
   ]
  },
  {
   "cell_type": "code",
   "execution_count": 107,
   "id": "8ba7b368-7075-4953-a138-f6bedf8682ee",
   "metadata": {},
   "outputs": [],
   "source": [
    "def normalize_date(date):\n",
    "    if isinstance(date, datetime): return date\n",
    "    date = str(date).strip().lower()\n",
    "    date = date.replace(\"reported\", \"\")\n",
    "    date = date.replace(\"september\", \"sep\")\n",
    "    date = date.replace(\"sept\", \"sep\")\n",
    "    date = date.replace(\"nox\", \"nov\")\n",
    "    return date"
   ]
  },
  {
   "cell_type": "markdown",
   "id": "2286d155-f28d-4712-9ab7-8439fa8931fd",
   "metadata": {},
   "source": [
    "## Format dates\n",
    "\n",
    "### Defining regular expressions\n",
    "\n",
    "- **Short dates:** 30-Oct-2024 or similar\n",
    "- **Long dates:** 30-October-2024 or similar\n",
    "- **Years**: 4 consecutive numbers\n",
    "\n",
    "### Running regular expressions\n",
    "- If the date is already a Python `datetime` object, return the date as it is\n",
    "- First match long dates, short dates then years\n",
    "- Parse these dates into a Python `datetime` object\n",
    "- If there are any errors, return the date as it is"
   ]
  },
  {
   "cell_type": "code",
   "execution_count": 109,
   "id": "41975f3e-2454-4e2f-8bc4-2e96999d9ccd",
   "metadata": {},
   "outputs": [],
   "source": [
    "any = \".*?\"\n",
    "numbers = \"[0-9]\"\n",
    "letters = \"[a-zA-Z]\"\n",
    "separators = \"[-\\\\s]\"\n",
    "\n",
    "short_date_regex = f\"^{any}({numbers}{1,2}){separators}+({letters}{3,4}){separators}+({numbers}{4}){any}$\"\n",
    "long_date_regex = f\"^{any}({numbers}{1,2}){separators}+({letters}{4,10}){separators}+({numbers}{4}){any}$\"\n",
    "\n",
    "year_regex = \"^[0-9]{4}$\"\n",
    "\n",
    "def match_date(regex, date):\n",
    "    match = re.search(regex, date)\n",
    "    if match:\n",
    "        day = long_match.group(1).zfill(2)\n",
    "        month = long_match.group(2)\n",
    "        year = long_match.group(3)\n",
    "        return datetime.strptime(f\"{day}/{month}/{year}\", \"%d/%B/%Y\")\n",
    "    return None\n",
    "\n",
    "def format_date(date):\n",
    "    if isinstance(date, datetime): return date\n",
    "\n",
    "    try:\n",
    "        long_date = match_date(long_date_regex, date)\n",
    "        if long_date: return long_date\n",
    "\n",
    "        short_date = match_date(short_date_regex, date)\n",
    "        if short_date: return short_date\n",
    "\n",
    "        year_match = re.search(year_regex, date)\n",
    "        if year_match: return None # datetime.strptime(year_match.group(0), \"%Y\")\n",
    "    except ValueError: return date"
   ]
  },
  {
   "cell_type": "markdown",
   "id": "ad9def05-2aeb-4d55-9ed7-91a8b8a94708",
   "metadata": {},
   "source": [
    "## Normalize years\n",
    "\n",
    "- For years greater than or equal to 1000, return them as they are\n",
    "- For dates between 100 and 999 (e.g. 950), add `1` to the beginning (e.g. 1950)\n",
    "- For dates between 25 and 99 (e.g. 93), add `19` to the beginning (e.g. 1993)\n",
    "- For dates between 10 and 24 (e.g. 24), add `20` to the beginning (e.g. 2024)\n",
    "- For dates between 0 and 9 (e.g. 4), add `200` to the beginning (e.g. 2004)"
   ]
  },
  {
   "cell_type": "code",
   "execution_count": 111,
   "id": "200c2025-b889-4a35-b6ed-12162459c86e",
   "metadata": {},
   "outputs": [],
   "source": [
    "def normalize_year(year):\n",
    "    if year >= 1000: return year\n",
    "    if year >= 100: return float(f\"1{year}\")\n",
    "    if year >= 25: return float(f\"19{year}\")\n",
    "    if year >= 10: return float(f\"20{year}\")\n",
    "    if year >= 0: return float(f\"200{year}\")\n",
    "    return year"
   ]
  },
  {
   "cell_type": "markdown",
   "id": "aba22b4c-9201-4542-aed0-847485c7938f",
   "metadata": {},
   "source": [
    "## Infer years from dates\n",
    "\n",
    "If a year is missing and the date record is present, use the year part from the date column"
   ]
  },
  {
   "cell_type": "code",
   "execution_count": 113,
   "id": "8ddec767-da5a-45bf-96c0-87636cd3f563",
   "metadata": {},
   "outputs": [],
   "source": [
    "def infer_year(row):\n",
    "    if pd.isnull(row.Year): row.Year = row.Date.year\n",
    "    return row"
   ]
  },
  {
   "cell_type": "markdown",
   "id": "c00934de-bfcf-45d7-87b3-fb0ca9e9b924",
   "metadata": {},
   "source": [
    "## Apply functions to DataFrame\n",
    "\n",
    "1. Normalize date\n",
    "2. Format date\n",
    "3. Drop empty dates otherwise\n",
    "4. Normalize year\n",
    "5. Infer year"
   ]
  },
  {
   "cell_type": "code",
   "execution_count": 115,
   "id": "f2dee1e5-d847-4d19-a7de-10e65ecb01d4",
   "metadata": {},
   "outputs": [],
   "source": [
    "df_copy = df.copy()\n",
    "\n",
    "df_copy.Date = df_copy.Date.apply(normalize_date)\n",
    "df_copy.Date = df_copy.Date.apply(format_date)\n",
    "df_copy = df_copy.dropna(subset=\"Date\")\n",
    "\n",
    "df_copy.Year = df_copy.Year.apply(normalize_year)\n",
    "df_copy[[\"Date\", \"Year\"]] = df_copy[[\"Date\", \"Year\"]].apply(infer_year, axis=1)"
   ]
  },
  {
   "cell_type": "code",
   "execution_count": 117,
   "id": "48d904ee-3722-4a16-87ba-4b963459d53b",
   "metadata": {},
   "outputs": [
    {
     "data": {
      "text/plain": [
       "array([None, '16:00', '11:30', '11:00', '17:35', '11:15', '16:15',\n",
       "       '13:15', '09:00', '13:00', '14:00', '15:30', '13:30', '09:15',\n",
       "       '13:40', '12:30', '15:00'], dtype=object)"
      ]
     },
     "execution_count": 117,
     "metadata": {},
     "output_type": "execute_result"
    }
   ],
   "source": [
    "import re\n",
    "\n",
    "sharks_df = df_copy.copy()\n",
    "\n",
    "sharks_df['Country'] = sharks_df['Country'].str.split(' / ')\n",
    "\n",
    "#Explode the Country lists into separate rows\n",
    "sharks_df = sharks_df.explode('Country')\n",
    "sharks_df[\"Country\"].unique()\n",
    "#sharks_df[\"Country\"].nunique()\n",
    "\n",
    "#replace bad entries with a single country but too repetitive doesn't show true data cleaning\n",
    "sharks_df['Country'] = sharks_df['Country'].replace({'CEYLON (SRI LANKA)': 'Sri Lanka'})\n",
    "sharks_df['Country'] = sharks_df['Country'].replace({'ST HELENA, British overseas territory': 'Saint Helena'})\n",
    "\n",
    "\n",
    "\n",
    "sharks_df[\"Country\"] = sharks_df[\"Country\"].str.lower()\n",
    "sharks_df = sharks_df.dropna(subset=['Country'])\n",
    "\n",
    "#sharks_df[\"Country\"] = sharks_df[\"Country\"].replace({\"?\": \"\"})\n",
    "#Call method strip to strip off question marks at the end\n",
    "sharks_df['Country'] = sharks_df['Country'].str.strip('?')\n",
    "\n",
    "#call is in method to remove oceans+seas+continents\n",
    "\n",
    "# Wordslist to remove\n",
    "words_to_remove = ['Asia', 'Africa' , 'ocean' , 'sea']\n",
    "mask = ~sharks_df['Country'].isin(words_to_remove)\n",
    "#df_cleaned = df[mask]\n",
    "\n",
    "# Display cleaned DataFrame\n",
    "#print(\"\\nCleaned DataFrame:\")\n",
    "#print(df_cleaned)\n",
    "\n",
    "def month_grouping(date):\n",
    "    return date.strftime(\"%B\")\n",
    "\n",
    "#print(month_grouping(datetime(2024, 1, 1, 0, 0, 0)))\n",
    "#print(month_grouping(datetime(2024, 2, 1, 0, 0, 0)))\n",
    "#print(month_grouping(datetime(2024, 3, 1, 0, 0, 0)))\n",
    "\n",
    "sharks_df[\"Month\"] = sharks_df[\"Date\"].apply(month_grouping)\n",
    "\n",
    "sharks_df[\"Time\"].unique()\n",
    "\n",
    "time_df = sharks_df.copy()\n",
    "\n",
    "any = \".*?\"\n",
    "numbers = \"[0-9]\"\n",
    "letters = \"[a-zA-Z]\"\n",
    "separators = \"[hr\\\\s\\\\.]\"\n",
    "\n",
    "#long_time_regex = f\"({numbers}{1,2}){separators}*({numbers}{2})\"\n",
    "long_time_regex = \"([0-9]{1,2})[hr\\\\s\\\\.]*([0-9]{2})\"\n",
    "#short_time_regex = f\"({numbers}{1,2})\"\n",
    "short_time_regex = \"([0-9]{1,2})[hr\\\\s\\\\.]*\"\n",
    "\n",
    "def match_time(regex, time):\n",
    "    match = re.search(regex, time)\n",
    "    if match: return match\n",
    "    return None\n",
    "    #if match:\n",
    "    #    hours = match.group(1).zfill(2)\n",
    "    #    minutes = match.group(2)\n",
    "    #    return f\"{hours}:{minutes}\"\n",
    "    #return None\n",
    "    \n",
    "def sanitize_time(time):\n",
    "\n",
    "    if time in [\"Not advised\", \"Not stated\", \"?\"]: return None\n",
    "    if not isinstance(time, str): time = str(time)\n",
    "    \n",
    "    try:\n",
    "        long_time = match_time(long_time_regex, time)\n",
    "        if long_time:\n",
    "            hours = long_time.group(1).zfill(2)\n",
    "            minutes = long_time.group(2)\n",
    "            return f\"{hours}:{minutes}\"\n",
    "\n",
    "        short_time = match_time(short_time_regex, time)\n",
    "        if short_time:\n",
    "            hours = short_time.group(1).zfill(2)\n",
    "            return f\"{hours}:00\"\n",
    "\n",
    "        return None\n",
    "    except ValueError: return time\n",
    "\n",
    "time_df[\"Time\"].unique()\n",
    "time_df[\"Time\"].apply(sanitize_time).unique()\n",
    "\n",
    "\n",
    "# add time to Date column\n",
    "\n",
    "#sharks_df.pivot(index=[\"Date\", \"Country\", \"State\"], columns=\"Type\", values=\"Injury\")\n",
    "# sharks_df.pivot(index[\"State\", \"Month\"]).count().unstack()\n",
    "#grouped = sharks_df.groupby([\"State\", \"Country\"])[\"State\"].unique().unstack()\n",
    "\n",
    "#grouped"
   ]
  },
  {
   "cell_type": "code",
   "execution_count": 121,
   "id": "267a25ff-6827-438a-92cb-d92a03e1e8e1",
   "metadata": {},
   "outputs": [
    {
     "data": {
      "text/plain": [
       "(29, 23)"
      ]
     },
     "execution_count": 121,
     "metadata": {},
     "output_type": "execute_result"
    }
   ],
   "source": [
    "df_copy.shape"
   ]
  },
  {
   "cell_type": "code",
   "execution_count": 123,
   "id": "70cf4911-7ac8-4d1a-b4c2-53691ff72fc1",
   "metadata": {},
   "outputs": [
    {
     "data": {
      "text/html": [
       "<div>\n",
       "<style scoped>\n",
       "    .dataframe tbody tr th:only-of-type {\n",
       "        vertical-align: middle;\n",
       "    }\n",
       "\n",
       "    .dataframe tbody tr th {\n",
       "        vertical-align: top;\n",
       "    }\n",
       "\n",
       "    .dataframe thead th {\n",
       "        text-align: right;\n",
       "    }\n",
       "</style>\n",
       "<table border=\"1\" class=\"dataframe\">\n",
       "  <thead>\n",
       "    <tr style=\"text-align: right;\">\n",
       "      <th></th>\n",
       "      <th>Date</th>\n",
       "      <th>Year</th>\n",
       "      <th>Type</th>\n",
       "      <th>Country</th>\n",
       "      <th>State</th>\n",
       "      <th>Location</th>\n",
       "      <th>Activity</th>\n",
       "      <th>Name</th>\n",
       "      <th>Sex</th>\n",
       "      <th>Age</th>\n",
       "      <th>...</th>\n",
       "      <th>Species</th>\n",
       "      <th>Source</th>\n",
       "      <th>pdf</th>\n",
       "      <th>href formula</th>\n",
       "      <th>href</th>\n",
       "      <th>Case Number</th>\n",
       "      <th>Case Number.1</th>\n",
       "      <th>original order</th>\n",
       "      <th>Unnamed: 21</th>\n",
       "      <th>Unnamed: 22</th>\n",
       "    </tr>\n",
       "  </thead>\n",
       "  <tbody>\n",
       "    <tr>\n",
       "      <th>0</th>\n",
       "      <td>2024-10-14</td>\n",
       "      <td>2024.0</td>\n",
       "      <td>Unprovoked</td>\n",
       "      <td>Honduras</td>\n",
       "      <td>Tela</td>\n",
       "      <td>Atlantida</td>\n",
       "      <td>Swimming</td>\n",
       "      <td>Roberto Carlose Bu Mejia</td>\n",
       "      <td>M</td>\n",
       "      <td>38</td>\n",
       "      <td>...</td>\n",
       "      <td>Bull shark</td>\n",
       "      <td>Georgienne Bradley: Daily Mail UK: FTN News.com</td>\n",
       "      <td>NaN</td>\n",
       "      <td>NaN</td>\n",
       "      <td>NaN</td>\n",
       "      <td>NaN</td>\n",
       "      <td>NaN</td>\n",
       "      <td>NaN</td>\n",
       "      <td>NaN</td>\n",
       "      <td>NaN</td>\n",
       "    </tr>\n",
       "    <tr>\n",
       "      <th>1</th>\n",
       "      <td>2024-10-11</td>\n",
       "      <td>2024.0</td>\n",
       "      <td>Unprovoked</td>\n",
       "      <td>USA</td>\n",
       "      <td>Florida</td>\n",
       "      <td>Brevard County Orlando</td>\n",
       "      <td>Surfing</td>\n",
       "      <td>Teddy Witteman</td>\n",
       "      <td>M</td>\n",
       "      <td>16</td>\n",
       "      <td>...</td>\n",
       "      <td>Bull shark 6ft</td>\n",
       "      <td>Todd SmithFlorida today: News 4:</td>\n",
       "      <td>NaN</td>\n",
       "      <td>NaN</td>\n",
       "      <td>NaN</td>\n",
       "      <td>NaN</td>\n",
       "      <td>NaN</td>\n",
       "      <td>NaN</td>\n",
       "      <td>NaN</td>\n",
       "      <td>NaN</td>\n",
       "    </tr>\n",
       "    <tr>\n",
       "      <th>2</th>\n",
       "      <td>2024-09-17</td>\n",
       "      <td>2024.0</td>\n",
       "      <td>Unprovoked</td>\n",
       "      <td>Honduras</td>\n",
       "      <td>Trujillo Colon</td>\n",
       "      <td>Puerto Castillo</td>\n",
       "      <td>Diving for shellfish</td>\n",
       "      <td>Fernando Mendoza Ocampo</td>\n",
       "      <td>M</td>\n",
       "      <td>33</td>\n",
       "      <td>...</td>\n",
       "      <td>Bull shark 6-7ft</td>\n",
       "      <td>Daily Mail UK: The Sun UK:  The World Watch</td>\n",
       "      <td>NaN</td>\n",
       "      <td>NaN</td>\n",
       "      <td>NaN</td>\n",
       "      <td>NaN</td>\n",
       "      <td>NaN</td>\n",
       "      <td>NaN</td>\n",
       "      <td>NaN</td>\n",
       "      <td>NaN</td>\n",
       "    </tr>\n",
       "    <tr>\n",
       "      <th>3</th>\n",
       "      <td>2024-09-16</td>\n",
       "      <td>2024.0</td>\n",
       "      <td>Unprovoked</td>\n",
       "      <td>Morocco</td>\n",
       "      <td>Southern Morocco</td>\n",
       "      <td>West of Dakhla</td>\n",
       "      <td>Swimming - jumped off yacht</td>\n",
       "      <td>German Tourist</td>\n",
       "      <td>F</td>\n",
       "      <td>30</td>\n",
       "      <td>...</td>\n",
       "      <td>Reportedly a Great White</td>\n",
       "      <td>Andy Currie: Moroccan World News: Sky News</td>\n",
       "      <td>NaN</td>\n",
       "      <td>NaN</td>\n",
       "      <td>NaN</td>\n",
       "      <td>NaN</td>\n",
       "      <td>NaN</td>\n",
       "      <td>NaN</td>\n",
       "      <td>NaN</td>\n",
       "      <td>NaN</td>\n",
       "    </tr>\n",
       "    <tr>\n",
       "      <th>4</th>\n",
       "      <td>2024-08-26</td>\n",
       "      <td>2024.0</td>\n",
       "      <td>Unprovoked</td>\n",
       "      <td>Jamaica</td>\n",
       "      <td>Montego Bay</td>\n",
       "      <td>Falmouth</td>\n",
       "      <td>Spearfishing</td>\n",
       "      <td>Jahmari Reid</td>\n",
       "      <td>M</td>\n",
       "      <td>16</td>\n",
       "      <td>...</td>\n",
       "      <td>Reportedly Tiger Shark</td>\n",
       "      <td>Todd Smith: Daily Mail UK: Sky News: People .com</td>\n",
       "      <td>NaN</td>\n",
       "      <td>NaN</td>\n",
       "      <td>NaN</td>\n",
       "      <td>NaN</td>\n",
       "      <td>NaN</td>\n",
       "      <td>NaN</td>\n",
       "      <td>NaN</td>\n",
       "      <td>NaN</td>\n",
       "    </tr>\n",
       "    <tr>\n",
       "      <th>5</th>\n",
       "      <td>2024-08-06</td>\n",
       "      <td>2024.0</td>\n",
       "      <td>Unprovoked</td>\n",
       "      <td>Belize</td>\n",
       "      <td>Gulf of Honduras</td>\n",
       "      <td>Central America</td>\n",
       "      <td>Swimming - Diving</td>\n",
       "      <td>Annabelle Carlson</td>\n",
       "      <td>F</td>\n",
       "      <td>15</td>\n",
       "      <td>...</td>\n",
       "      <td>Reef shark 6ft (1.8m)</td>\n",
       "      <td>Kevin McMurray Tracking Sharks.com New York Po...</td>\n",
       "      <td>NaN</td>\n",
       "      <td>NaN</td>\n",
       "      <td>NaN</td>\n",
       "      <td>NaN</td>\n",
       "      <td>NaN</td>\n",
       "      <td>NaN</td>\n",
       "      <td>NaN</td>\n",
       "      <td>NaN</td>\n",
       "    </tr>\n",
       "    <tr>\n",
       "      <th>6</th>\n",
       "      <td>2024-07-23</td>\n",
       "      <td>2024.0</td>\n",
       "      <td>Unprovoked</td>\n",
       "      <td>Australia</td>\n",
       "      <td>NSW</td>\n",
       "      <td>North Shore Beach, Port Macquarie</td>\n",
       "      <td>Surfing</td>\n",
       "      <td>Kai McKenzie</td>\n",
       "      <td>M</td>\n",
       "      <td>23</td>\n",
       "      <td>...</td>\n",
       "      <td>3m White Shark</td>\n",
       "      <td>Nine.com.au: ABC.Net.Au Johannes Marchand</td>\n",
       "      <td>NaN</td>\n",
       "      <td>NaN</td>\n",
       "      <td>NaN</td>\n",
       "      <td>NaN</td>\n",
       "      <td>NaN</td>\n",
       "      <td>NaN</td>\n",
       "      <td>NaN</td>\n",
       "      <td>NaN</td>\n",
       "    </tr>\n",
       "    <tr>\n",
       "      <th>7</th>\n",
       "      <td>2024-07-18</td>\n",
       "      <td>2024.0</td>\n",
       "      <td>Unprovoked</td>\n",
       "      <td>Australia</td>\n",
       "      <td>Western Australia</td>\n",
       "      <td>Trigg beach Sterling</td>\n",
       "      <td>Surfing</td>\n",
       "      <td>Ryan Lowther</td>\n",
       "      <td>M</td>\n",
       "      <td>41</td>\n",
       "      <td>...</td>\n",
       "      <td>Undetermined small shall shark</td>\n",
       "      <td>Daily Mail: Sky News: The West Australian</td>\n",
       "      <td>NaN</td>\n",
       "      <td>NaN</td>\n",
       "      <td>NaN</td>\n",
       "      <td>NaN</td>\n",
       "      <td>NaN</td>\n",
       "      <td>NaN</td>\n",
       "      <td>NaN</td>\n",
       "      <td>NaN</td>\n",
       "    </tr>\n",
       "    <tr>\n",
       "      <th>8</th>\n",
       "      <td>2024-07-08</td>\n",
       "      <td>2024.0</td>\n",
       "      <td>Unprovoked</td>\n",
       "      <td>USA</td>\n",
       "      <td>Florida</td>\n",
       "      <td>Ponce de Leon Inlet Volusia County</td>\n",
       "      <td>Diving into Water</td>\n",
       "      <td>Dempsey Manhart</td>\n",
       "      <td>M</td>\n",
       "      <td>14</td>\n",
       "      <td>...</td>\n",
       "      <td>4-5ft Blacktip shark</td>\n",
       "      <td>Miami Herald</td>\n",
       "      <td>NaN</td>\n",
       "      <td>NaN</td>\n",
       "      <td>NaN</td>\n",
       "      <td>NaN</td>\n",
       "      <td>NaN</td>\n",
       "      <td>NaN</td>\n",
       "      <td>NaN</td>\n",
       "      <td>NaN</td>\n",
       "    </tr>\n",
       "    <tr>\n",
       "      <th>9</th>\n",
       "      <td>2024-07-05</td>\n",
       "      <td>2024.0</td>\n",
       "      <td>Unprovoked</td>\n",
       "      <td>USA</td>\n",
       "      <td>Florida</td>\n",
       "      <td>New Smyrna Beach</td>\n",
       "      <td>Wading</td>\n",
       "      <td>Not stated</td>\n",
       "      <td>M</td>\n",
       "      <td>26</td>\n",
       "      <td>...</td>\n",
       "      <td>Not specified</td>\n",
       "      <td>Sacbee Fox 35</td>\n",
       "      <td>NaN</td>\n",
       "      <td>NaN</td>\n",
       "      <td>NaN</td>\n",
       "      <td>NaN</td>\n",
       "      <td>NaN</td>\n",
       "      <td>NaN</td>\n",
       "      <td>NaN</td>\n",
       "      <td>NaN</td>\n",
       "    </tr>\n",
       "  </tbody>\n",
       "</table>\n",
       "<p>10 rows × 23 columns</p>\n",
       "</div>"
      ],
      "text/plain": [
       "        Date    Year        Type    Country              State  \\\n",
       "0 2024-10-14  2024.0  Unprovoked   Honduras               Tela   \n",
       "1 2024-10-11  2024.0  Unprovoked        USA            Florida   \n",
       "2 2024-09-17  2024.0  Unprovoked   Honduras     Trujillo Colon   \n",
       "3 2024-09-16  2024.0  Unprovoked    Morocco   Southern Morocco   \n",
       "4 2024-08-26  2024.0  Unprovoked    Jamaica        Montego Bay   \n",
       "5 2024-08-06  2024.0  Unprovoked     Belize   Gulf of Honduras   \n",
       "6 2024-07-23  2024.0  Unprovoked  Australia                NSW   \n",
       "7 2024-07-18  2024.0  Unprovoked  Australia  Western Australia   \n",
       "8 2024-07-08  2024.0  Unprovoked        USA            Florida   \n",
       "9 2024-07-05  2024.0  Unprovoked        USA            Florida   \n",
       "\n",
       "                             Location                     Activity  \\\n",
       "0                           Atlantida                     Swimming   \n",
       "1              Brevard County Orlando                      Surfing   \n",
       "2                     Puerto Castillo         Diving for shellfish   \n",
       "3                      West of Dakhla  Swimming - jumped off yacht   \n",
       "4                            Falmouth                 Spearfishing   \n",
       "5                     Central America           Swimming - Diving    \n",
       "6   North Shore Beach, Port Macquarie                      Surfing   \n",
       "7                Trigg beach Sterling                      Surfing   \n",
       "8  Ponce de Leon Inlet Volusia County            Diving into Water   \n",
       "9                    New Smyrna Beach                       Wading   \n",
       "\n",
       "                       Name Sex Age  ...                        Species   \\\n",
       "0  Roberto Carlose Bu Mejia   M  38  ...                      Bull shark   \n",
       "1            Teddy Witteman   M  16  ...                  Bull shark 6ft   \n",
       "2   Fernando Mendoza Ocampo   M  33  ...                Bull shark 6-7ft   \n",
       "3            German Tourist   F  30  ...        Reportedly a Great White   \n",
       "4              Jahmari Reid   M  16  ...          Reportedly Tiger Shark   \n",
       "5         Annabelle Carlson   F  15  ...           Reef shark 6ft (1.8m)   \n",
       "6              Kai McKenzie   M  23  ...                  3m White Shark   \n",
       "7              Ryan Lowther   M  41  ...  Undetermined small shall shark   \n",
       "8           Dempsey Manhart   M  14  ...            4-5ft Blacktip shark   \n",
       "9                Not stated   M  26  ...                   Not specified   \n",
       "\n",
       "                                              Source  pdf href formula href  \\\n",
       "0    Georgienne Bradley: Daily Mail UK: FTN News.com  NaN          NaN  NaN   \n",
       "1                   Todd SmithFlorida today: News 4:  NaN          NaN  NaN   \n",
       "2        Daily Mail UK: The Sun UK:  The World Watch  NaN          NaN  NaN   \n",
       "3         Andy Currie: Moroccan World News: Sky News  NaN          NaN  NaN   \n",
       "4   Todd Smith: Daily Mail UK: Sky News: People .com  NaN          NaN  NaN   \n",
       "5  Kevin McMurray Tracking Sharks.com New York Po...  NaN          NaN  NaN   \n",
       "6          Nine.com.au: ABC.Net.Au Johannes Marchand  NaN          NaN  NaN   \n",
       "7          Daily Mail: Sky News: The West Australian  NaN          NaN  NaN   \n",
       "8                                       Miami Herald  NaN          NaN  NaN   \n",
       "9                                      Sacbee Fox 35  NaN          NaN  NaN   \n",
       "\n",
       "  Case Number Case Number.1 original order Unnamed: 21 Unnamed: 22  \n",
       "0         NaN           NaN            NaN         NaN         NaN  \n",
       "1         NaN           NaN            NaN         NaN         NaN  \n",
       "2         NaN           NaN            NaN         NaN         NaN  \n",
       "3         NaN           NaN            NaN         NaN         NaN  \n",
       "4         NaN           NaN            NaN         NaN         NaN  \n",
       "5         NaN           NaN            NaN         NaN         NaN  \n",
       "6         NaN           NaN            NaN         NaN         NaN  \n",
       "7         NaN           NaN            NaN         NaN         NaN  \n",
       "8         NaN           NaN            NaN         NaN         NaN  \n",
       "9         NaN           NaN            NaN         NaN         NaN  \n",
       "\n",
       "[10 rows x 23 columns]"
      ]
     },
     "execution_count": 123,
     "metadata": {},
     "output_type": "execute_result"
    }
   ],
   "source": [
    "df_copy.head(10)"
   ]
  },
  {
   "cell_type": "code",
   "execution_count": 125,
   "id": "1fb8a16b-2f48-431b-aef0-8a0f8a52cb5b",
   "metadata": {},
   "outputs": [
    {
     "data": {
      "text/plain": [
       "0     2024-10-14\n",
       "1     2024-10-11\n",
       "2     2024-09-17\n",
       "3     2024-09-16\n",
       "4     2024-08-26\n",
       "5     2024-08-06\n",
       "6     2024-07-23\n",
       "7     2024-07-18\n",
       "8     2024-07-08\n",
       "9     2024-07-05\n",
       "10    2024-07-04\n",
       "11    2024-07-04\n",
       "12    2024-07-04\n",
       "13    2024-07-04\n",
       "14    2024-07-04\n",
       "15    2024-06-07\n",
       "16    2024-06-02\n",
       "17    2024-06-02\n",
       "18    2024-05-28\n",
       "19    2024-05-24\n",
       "20    2024-05-23\n",
       "21    2024-05-02\n",
       "22    2024-04-26\n",
       "23    2024-04-26\n",
       "24    2024-04-20\n",
       "25    2024-04-20\n",
       "26    2024-04-08\n",
       "27    2024-04-08\n",
       "107   2023-05-20\n",
       "Name: Date, dtype: datetime64[ns]"
      ]
     },
     "execution_count": 125,
     "metadata": {},
     "output_type": "execute_result"
    }
   ],
   "source": [
    "df_copy[\"Date\"]"
   ]
  },
  {
   "cell_type": "code",
   "execution_count": 127,
   "id": "615a9618-eb2b-4011-96c6-174fe609b3f0",
   "metadata": {},
   "outputs": [
    {
     "name": "stdout",
     "output_type": "stream",
     "text": [
      "Date              21\n",
      "Year               4\n",
      "Type               2\n",
      "Country           11\n",
      "State             21\n",
      "Location          25\n",
      "Activity          16\n",
      "Name              28\n",
      "Sex                2\n",
      "Age               21\n",
      "Injury            28\n",
      "Unnamed: 11        2\n",
      "Time              19\n",
      "Species           21\n",
      "Source            28\n",
      "pdf                0\n",
      "href formula       0\n",
      "href               0\n",
      "Case Number        0\n",
      "Case Number.1      0\n",
      "original order     0\n",
      "Unnamed: 21        0\n",
      "Unnamed: 22        0\n",
      "dtype: int64\n"
     ]
    }
   ],
   "source": [
    "print(df_copy.nunique())"
   ]
  },
  {
   "cell_type": "code",
   "execution_count": 129,
   "id": "e69c3ef3-0e5c-4d6d-8832-77b2fa9dea11",
   "metadata": {},
   "outputs": [],
   "source": [
    "columns_few_unique_values= [\"Year\", \"Type\", \"Sex\"]"
   ]
  },
  {
   "cell_type": "code",
   "execution_count": 131,
   "id": "22c255af-a672-440d-ae9d-c6f8bc7dbf61",
   "metadata": {},
   "outputs": [
    {
     "name": "stdout",
     "output_type": "stream",
     "text": [
      "unique values for Year:\n",
      "[2024. 2026. 2025. 2023.]\n",
      "\n",
      "unique values for Type:\n",
      "['Unprovoked' 'Provoked']\n",
      "\n",
      "unique values for Sex:\n",
      "['M' 'F']\n",
      "\n"
     ]
    }
   ],
   "source": [
    "for column in columns_few_unique_values: \n",
    "    unique_values= df_copy[column].unique()\n",
    "    print(f\"unique values for {column}:\")\n",
    "    print(unique_values)\n",
    "    print()"
   ]
  },
  {
   "cell_type": "code",
   "execution_count": 133,
   "id": "b7c11df7-ed3b-4427-b926-20f21c385d24",
   "metadata": {},
   "outputs": [],
   "source": [
    "categorical_variables = [\"Activity\"]"
   ]
  },
  {
   "cell_type": "code",
   "execution_count": 135,
   "id": "7bca2d9e-e346-494d-b86c-da59aaf4a994",
   "metadata": {},
   "outputs": [
    {
     "name": "stdout",
     "output_type": "stream",
     "text": [
      "Activity\n",
      "Swimming                                                           9\n",
      "Surfing                                                            4\n",
      "Spearfishing                                                       2\n",
      "Wading                                                             2\n",
      "Diving for shellfish                                               1\n",
      "Swimming - jumped off yacht                                        1\n",
      "Swimming - Diving                                                  1\n",
      "Diving into Water                                                  1\n",
      "Playing football in the water                                      1\n",
      "Swimming ocean training                                            1\n",
      "Military ocean training                                            1\n",
      "snorkelling                                                        1\n",
      "Freediving                                                         1\n",
      "Jumpinf from dock to boat acidentally fell into water at marina    1\n",
      "Fishing                                                            1\n",
      "Shark Feeding                                                      1\n",
      "Name: count, dtype: int64\n"
     ]
    }
   ],
   "source": [
    "for column in categorical_variables:\n",
    "    print(df_copy[column].value_counts())"
   ]
  },
  {
   "cell_type": "code",
   "execution_count": 137,
   "id": "ca453680-18cc-43b7-ae78-fe80fbba0482",
   "metadata": {},
   "outputs": [
    {
     "name": "stdout",
     "output_type": "stream",
     "text": [
      "State\n",
      "Florida                     5\n",
      "Texas                       3\n",
      "Nunu Atoll                  2\n",
      "Western Australia           2\n",
      "Tela                        1\n",
      "Galveston                   1\n",
      "South Australia             1\n",
      "Clarence Town Long Isand    1\n",
      "Graet Courland Bay          1\n",
      "South Carolina              1\n",
      "Gambier Islands             1\n",
      "Providenciales Island       1\n",
      "California                  1\n",
      "Maahvah Laamu Atoll         1\n",
      "Floria                      1\n",
      "NSW                         1\n",
      "Gulf of Honduras            1\n",
      "Montego Bay                 1\n",
      "Southern Morocco            1\n",
      "Trujillo Colon              1\n",
      " Utah                       1\n",
      "Name: count, dtype: int64\n"
     ]
    }
   ],
   "source": [
    "print(df_copy[\"State\"].value_counts())"
   ]
  },
  {
   "cell_type": "code",
   "execution_count": 139,
   "id": "fa55c584-7d1a-4290-b361-9ba41dfef9ea",
   "metadata": {},
   "outputs": [
    {
     "name": "stdout",
     "output_type": "stream",
     "text": [
      "Requirement already satisfied: seaborn in /opt/anaconda3/lib/python3.12/site-packages (0.13.2)\n",
      "Requirement already satisfied: numpy!=1.24.0,>=1.20 in /opt/anaconda3/lib/python3.12/site-packages (from seaborn) (1.26.4)\n",
      "Requirement already satisfied: pandas>=1.2 in /opt/anaconda3/lib/python3.12/site-packages (from seaborn) (2.2.2)\n",
      "Requirement already satisfied: matplotlib!=3.6.1,>=3.4 in /opt/anaconda3/lib/python3.12/site-packages (from seaborn) (3.8.4)\n",
      "Requirement already satisfied: contourpy>=1.0.1 in /opt/anaconda3/lib/python3.12/site-packages (from matplotlib!=3.6.1,>=3.4->seaborn) (1.2.0)\n",
      "Requirement already satisfied: cycler>=0.10 in /opt/anaconda3/lib/python3.12/site-packages (from matplotlib!=3.6.1,>=3.4->seaborn) (0.11.0)\n",
      "Requirement already satisfied: fonttools>=4.22.0 in /opt/anaconda3/lib/python3.12/site-packages (from matplotlib!=3.6.1,>=3.4->seaborn) (4.51.0)\n",
      "Requirement already satisfied: kiwisolver>=1.3.1 in /opt/anaconda3/lib/python3.12/site-packages (from matplotlib!=3.6.1,>=3.4->seaborn) (1.4.4)\n",
      "Requirement already satisfied: packaging>=20.0 in /opt/anaconda3/lib/python3.12/site-packages (from matplotlib!=3.6.1,>=3.4->seaborn) (23.2)\n",
      "Requirement already satisfied: pillow>=8 in /opt/anaconda3/lib/python3.12/site-packages (from matplotlib!=3.6.1,>=3.4->seaborn) (10.3.0)\n",
      "Requirement already satisfied: pyparsing>=2.3.1 in /opt/anaconda3/lib/python3.12/site-packages (from matplotlib!=3.6.1,>=3.4->seaborn) (3.0.9)\n",
      "Requirement already satisfied: python-dateutil>=2.7 in /opt/anaconda3/lib/python3.12/site-packages (from matplotlib!=3.6.1,>=3.4->seaborn) (2.9.0.post0)\n",
      "Requirement already satisfied: pytz>=2020.1 in /opt/anaconda3/lib/python3.12/site-packages (from pandas>=1.2->seaborn) (2024.1)\n",
      "Requirement already satisfied: tzdata>=2022.7 in /opt/anaconda3/lib/python3.12/site-packages (from pandas>=1.2->seaborn) (2023.3)\n",
      "Requirement already satisfied: six>=1.5 in /opt/anaconda3/lib/python3.12/site-packages (from python-dateutil>=2.7->matplotlib!=3.6.1,>=3.4->seaborn) (1.16.0)\n"
     ]
    }
   ],
   "source": [
    "!pip install seaborn"
   ]
  },
  {
   "cell_type": "code",
   "execution_count": 141,
   "id": "f0e221ca-37f0-4fb3-aafc-18aa8e17c9e0",
   "metadata": {},
   "outputs": [],
   "source": [
    "import seaborn as sns"
   ]
  },
  {
   "cell_type": "code",
   "execution_count": 143,
   "id": "ba281a58-50d5-489f-a65d-f461ddcbed99",
   "metadata": {},
   "outputs": [
    {
     "data": {
      "text/plain": [
       "<Axes: xlabel='Sex', ylabel='count'>"
      ]
     },
     "execution_count": 143,
     "metadata": {},
     "output_type": "execute_result"
    },
    {
     "data": {
      "image/png": "[encoded data removed]",
      "text/plain": [
       "<Figure size 640x480 with 1 Axes>"
      ]
     },
     "metadata": {},
     "output_type": "display_data"
    }
   ],
   "source": [
    "sns.countplot(x='Sex', data=df_copy)"
   ]
  },
  {
   "cell_type": "code",
   "execution_count": 145,
   "id": "1c783069-8564-4814-a086-1ba08cea7bfe",
   "metadata": {},
   "outputs": [
    {
     "data": {
      "text/plain": [
       "<Axes: xlabel='Year', ylabel='count'>"
      ]
     },
     "execution_count": 145,
     "metadata": {},
     "output_type": "execute_result"
    },
    {
     "data": {
      "image/png": "[encoded data removed]",
      "text/plain": [
       "<Figure size 640x480 with 1 Axes>"
      ]
     },
     "metadata": {},
     "output_type": "display_data"
    }
   ],
   "source": [
    "sns.countplot(x='Year', data=df_copy)"
   ]
  },
  {
   "cell_type": "code",
   "execution_count": 147,
   "id": "cc46c807-d5e4-4fee-bbbe-444ff32d4869",
   "metadata": {},
   "outputs": [
    {
     "data": {
      "text/plain": [
       "<Axes: xlabel='Type', ylabel='count'>"
      ]
     },
     "execution_count": 147,
     "metadata": {},
     "output_type": "execute_result"
    },
    {
     "data": {
      "image/png": "[encoded data removed]",
      "text/plain": [
       "<Figure size 640x480 with 1 Axes>"
      ]
     },
     "metadata": {},
     "output_type": "display_data"
    }
   ],
   "source": [
    "sns.countplot(x='Type', data=df_copy)"
   ]
  },
  {
   "cell_type": "code",
   "execution_count": 149,
   "id": "29398c8d-d8c1-4c0a-925f-73933cb06bb6",
   "metadata": {},
   "outputs": [
    {
     "data": {
      "text/plain": [
       "<Axes: xlabel='Country', ylabel='count'>"
      ]
     },
     "execution_count": 149,
     "metadata": {},
     "output_type": "execute_result"
    },
    {
     "data": {
      "image/png": "[encoded data removed]",
      "text/plain": [
       "<Figure size 640x480 with 1 Axes>"
      ]
     },
     "metadata": {},
     "output_type": "display_data"
    }
   ],
   "source": [
    "sns.countplot(x='Country', data=df_copy)"
   ]
  },
  {
   "cell_type": "code",
   "execution_count": 151,
   "id": "5794c0f4-6e01-49c1-8daa-80ebeb683b20",
   "metadata": {},
   "outputs": [
    {
     "data": {
      "text/plain": [
       "<Axes: xlabel='State', ylabel='count'>"
      ]
     },
     "execution_count": 151,
     "metadata": {},
     "output_type": "execute_result"
    },
    {
     "data": {
      "image/png": "[encoded data removed]",
      "text/plain": [
       "<Figure size 640x480 with 1 Axes>"
      ]
     },
     "metadata": {},
     "output_type": "display_data"
    }
   ],
   "source": [
    "sns.countplot(x='State', data=df_copy)"
   ]
  },
  {
   "cell_type": "code",
   "execution_count": 153,
   "id": "05112d74-ddec-48b5-a374-d04392291fd2",
   "metadata": {},
   "outputs": [
    {
     "data": {
      "text/plain": [
       "<Axes: xlabel='Activity', ylabel='count'>"
      ]
     },
     "execution_count": 153,
     "metadata": {},
     "output_type": "execute_result"
    },
    {
     "data": {
      "image/png": "[encoded data removed]",
      "text/plain": [
       "<Figure size 640x480 with 1 Axes>"
      ]
     },
     "metadata": {},
     "output_type": "display_data"
    }
   ],
   "source": [
    "sns.countplot(x='Activity', data=df_copy)"
   ]
  },
  {
   "cell_type": "code",
   "execution_count": 155,
   "id": "b6662fce-5bb5-457f-8c52-5ead460886f5",
   "metadata": {},
   "outputs": [
    {
     "data": {
      "text/plain": [
       "<Axes: xlabel='Age', ylabel='count'>"
      ]
     },
     "execution_count": 155,
     "metadata": {},
     "output_type": "execute_result"
    },
    {
     "data": {
      "image/png": "[encoded data removed]",
      "text/plain": [
       "<Figure size 640x480 with 1 Axes>"
      ]
     },
     "metadata": {},
     "output_type": "display_data"
    }
   ],
   "source": [
    "sns.countplot(x='Age', data=df_copy)"
   ]
  },
  {
   "cell_type": "code",
   "execution_count": 157,
   "id": "8c30d083-6b2d-4917-a8fd-0ccb4c67be7c",
   "metadata": {},
   "outputs": [
    {
     "name": "stdout",
     "output_type": "stream",
     "text": [
      "Age\n",
      "16            3\n",
      "26            3\n",
      "18            2\n",
      "23            2\n",
      "?             2\n",
      "15            1\n",
      "41            1\n",
      "14            1\n",
      "30            1\n",
      "Middle age    1\n",
      "33            1\n",
      "21            1\n",
      "45            1\n",
      "46            1\n",
      "19            1\n",
      "27            1\n",
      "20            1\n",
      "65            1\n",
      "64            1\n",
      "24            1\n",
      "38            1\n",
      "Name: count, dtype: int64\n"
     ]
    }
   ],
   "source": [
    "print(df_copy[\"Age\"].value_counts())"
   ]
  },
  {
   "cell_type": "code",
   "execution_count": 159,
   "id": "50eb082f-4a9e-4458-85ba-59f800e7c00f",
   "metadata": {},
   "outputs": [
    {
     "name": "stdout",
     "output_type": "stream",
     "text": [
      "Injury\n",
      "Minor injury to left leg                                                          2\n",
      "Back and thigh extensive tissue loss                                              1\n",
      "Bite to left arm                                                                  1\n",
      "Minor injuries left foot                                                          1\n",
      "Minor bite to left leg                                                            1\n",
      "Bitten on left leg puncture wounds to kneecap                                     1\n",
      "Bite wounds to left arm and leg wounds to abdomen and left hand                   1\n",
      "Bitten on left arm                                                                1\n",
      "Bite left forearm several ripped tendons severed nerves deep muscle wounds        1\n",
      "Major damage to right leg later amputated lower left leg left hand and forearm    1\n",
      "Bitten on left hand by 4-5ft shark                                                1\n",
      "Wounds to lower extremities Fatal                                                 1\n",
      "Significant bites to torso left arm and hand                                      1\n",
      "Significant injuries to pelvic and abdominal region                               1\n",
      "Bite to left leg                                                                  1\n",
      "Minor injury to right foot four tendons ruptured                                  1\n",
      "Superficial wounds to leg                                                         1\n",
      "Minor cuts to calf                                                                1\n",
      "Bite to left leg calf muscle removed                                              1\n",
      "Minor injury to left foot                                                         1\n",
      "Lower left leg injury                                                             1\n",
      "Minor injury to lower left leg                                                    1\n",
      "Serious injury to leg                                                             1\n",
      "Right lower leg amputated after serious bite                                      1\n",
      "Head right arm and leg severed                                                    1\n",
      "Leg severed                                                                       1\n",
      "Bite to left leg                                                                  1\n",
      "Bitten on hand minor injury                                                       1\n",
      "Name: count, dtype: int64\n"
     ]
    }
   ],
   "source": [
    "print(df_copy[\"Injury\"].value_counts())"
   ]
  },
  {
   "cell_type": "code",
   "execution_count": 165,
   "id": "261bf83f-b0b6-4c4d-b6b5-99fa3dad7d54",
   "metadata": {},
   "outputs": [
    {
     "name": "stdout",
     "output_type": "stream",
     "text": [
      "Time\n",
      "?              7\n",
      "1100hr         3\n",
      "Not advised    3\n",
      "14h            1\n",
      "12h30          1\n",
      "13h40          1\n",
      "9h15           1\n",
      "13h30          1\n",
      "Not stated     1\n",
      "15h30          1\n",
      "1300           1\n",
      "1600hr         1\n",
      "9h             1\n",
      "13h15          1\n",
      "16hr15         1\n",
      "11hr15         1\n",
      "1735hr         1\n",
      "11.30hr        1\n",
      "1500h          1\n",
      "Name: count, dtype: int64\n"
     ]
    }
   ],
   "source": [
    "print(df_copy[\"Time\"].value_counts())"
   ]
  },
  {
   "cell_type": "code",
   "execution_count": null,
   "id": "1228b09d-d621-49f0-92b4-16d9c8a9cabf",
   "metadata": {},
   "outputs": [],
   "source": []
  }
 ],
 "metadata": {
  "kernelspec": {
   "display_name": "Python 3 (ipykernel)",
   "language": "python",
   "name": "python3"
  },
  "language_info": {
   "codemirror_mode": {
    "name": "ipython",
    "version": 3
   },
   "file_extension": ".py",
   "mimetype": "text/x-python",
   "name": "python",
   "nbconvert_exporter": "python",
   "pygments_lexer": "ipython3",
   "version": "3.12.4"
  }
 },
 "nbformat": 4,
 "nbformat_minor": 5
}
