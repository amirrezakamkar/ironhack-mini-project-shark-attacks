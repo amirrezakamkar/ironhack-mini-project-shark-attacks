{
 "cells": [
  {
   "cell_type": "markdown",
   "id": "0dde90dd-91dd-4b19-9d43-a4ba3ebd9e6c",
   "metadata": {},
   "source": [
    "# Dealing with dates and years"
   ]
  },
  {
   "cell_type": "code",
   "execution_count": 307,
   "id": "7e1a0e44-5eac-4b03-af0e-b8244fdc44bf",
   "metadata": {},
   "outputs": [],
   "source": [
    "import pandas as pd\n",
    "from datetime import datetime\n",
    "import re\n",
    "\n",
    "df = pd.read_excel(\"GSAF5.xls\")"
   ]
  },
  {
   "cell_type": "markdown",
   "id": "20ec9fc1-a8a5-422a-a4ed-da35df1a5ab5",
   "metadata": {},
   "source": [
    "## Normalize dates\n",
    "\n",
    "- `Reported` was removed from the date column\n",
    "- `Sept` is not an accepted `datetime` so it was replaced with `Sep`\n",
    "- There was a typo in one record `Nox` instead of `Nov`"
   ]
  },
  {
   "cell_type": "code",
   "execution_count": 308,
   "id": "8ba7b368-7075-4953-a138-f6bedf8682ee",
   "metadata": {},
   "outputs": [],
   "source": [
    "def normalize_date(date):\n",
    "    if isinstance(date, datetime): return date\n",
    "    date = str(date).strip().lower()\n",
    "    date = date.replace(\"reported\", \"\")\n",
    "    date = date.replace(\"september\", \"sep\")\n",
    "    date = date.replace(\"sept\", \"sep\")\n",
    "    date = date.replace(\"nox\", \"nov\")\n",
    "    return date"
   ]
  },
  {
   "cell_type": "markdown",
   "id": "2286d155-f28d-4712-9ab7-8439fa8931fd",
   "metadata": {},
   "source": [
    "## Format dates\n",
    "\n",
    "### Defining regular expressions\n",
    "\n",
    "- **Short dates:** 30-Oct-2024 or similar\n",
    "- **Long dates:** 30-October-2024 or similar\n",
    "- **Years**: 4 consecutive numbers\n",
    "\n",
    "### Running regular expressions\n",
    "- If the date is already a Python `datetime` object, return the date as it is\n",
    "- First match long dates, short dates then years\n",
    "- Parse these dates into a Python `datetime` object\n",
    "- If there are any errors, return the date as it is"
   ]
  },
  {
   "cell_type": "code",
   "execution_count": 369,
   "id": "41975f3e-2454-4e2f-8bc4-2e96999d9ccd",
   "metadata": {},
   "outputs": [],
   "source": [
    "short_date_regex = \"([0-9]{1,2})[-\\\\s]+([a-zA-Z]{3,4})[-\\\\s]+([0-9]{4})\"\n",
    "long_date_regex = \"([0-9]{1,2})[-\\\\s]+([a-zA-Z]{4,10})[-\\\\s]+([0-9]{4})\"\n",
    "# year_regex = \"^[0-9]{4}$\"\n",
    "\n",
    "def match_date(regex, date):\n",
    "    match = re.search(regex, date)\n",
    "    if match:\n",
    "        day = match.group(1).zfill(2)\n",
    "        month = match.group(2)\n",
    "        year = match.group(3)\n",
    "        return datetime.strptime(f\"{day}/{month}/{year}\", \"%d/%B/%Y\")\n",
    "    return None\n",
    "\n",
    "def format_date(date):\n",
    "    if isinstance(date, datetime): return date\n",
    "\n",
    "    try:\n",
    "        long_date = match_date(long_date_regex, date)\n",
    "        if long_date: return long_date\n",
    "\n",
    "        short_date = match_date(short_date_regex, date)\n",
    "        if short_date: return short_date\n",
    "\n",
    "        return None\n",
    "        # year_match = re.search(year_regex, date)\n",
    "        # if year_match: return None\n",
    "    except ValueError: return None"
   ]
  },
  {
   "cell_type": "markdown",
   "id": "ad9def05-2aeb-4d55-9ed7-91a8b8a94708",
   "metadata": {},
   "source": [
    "## Normalize years\n",
    "\n",
    "- For years greater than or equal to 1000, return them as they are\n",
    "- For dates between 100 and 999 (e.g. 950), add `1` to the beginning (e.g. 1950)\n",
    "- For dates between 25 and 99 (e.g. 93), add `19` to the beginning (e.g. 1993)\n",
    "- For dates between 10 and 24 (e.g. 24), add `20` to the beginning (e.g. 2024)\n",
    "- For dates between 0 and 9 (e.g. 4), add `200` to the beginning (e.g. 2004)"
   ]
  },
  {
   "cell_type": "code",
   "execution_count": 313,
   "id": "200c2025-b889-4a35-b6ed-12162459c86e",
   "metadata": {},
   "outputs": [],
   "source": [
    "def normalize_year(year):\n",
    "    if year >= 1000: return year\n",
    "    if year >= 100: return float(f\"1{year}\")\n",
    "    if year >= 25: return float(f\"19{year}\")\n",
    "    if year >= 10: return float(f\"20{year}\")\n",
    "    if year >= 0: return float(f\"200{year}\")\n",
    "    return year"
   ]
  },
  {
   "cell_type": "markdown",
   "id": "aba22b4c-9201-4542-aed0-847485c7938f",
   "metadata": {},
   "source": [
    "## Infer years from dates\n",
    "\n",
    "If a year is missing and the date record is present, use the year part from the date column"
   ]
  },
  {
   "cell_type": "code",
   "execution_count": 315,
   "id": "8ddec767-da5a-45bf-96c0-87636cd3f563",
   "metadata": {},
   "outputs": [],
   "source": [
    "def infer_year(row):\n",
    "    if pd.isnull(row.Year) and not pd.isnull(row.Date) and isinstance(row.Date, datetime):\n",
    "        row.Year = row.Date.year\n",
    "    return row"
   ]
  },
  {
   "cell_type": "markdown",
   "id": "f0e968c9-505a-445e-ac00-d05855a140ec",
   "metadata": {},
   "source": [
    "## Month grouping and time sanitization"
   ]
  },
  {
   "cell_type": "code",
   "execution_count": 317,
   "id": "dd0f559a-a10e-4e48-ac2c-9ec70f4ead26",
   "metadata": {},
   "outputs": [],
   "source": [
    "def month_grouping(date):\n",
    "    if not isinstance(date, datetime): return date\n",
    "    return date.strftime(\"%B\")\n",
    "\n",
    "def sanitize_time(time):\n",
    "    long_time_regex = \"([0-9]{1,2})[hr\\\\s\\\\.]*([0-9]{2})\"\n",
    "    short_time_regex = \"([0-9]{1,2})[hr\\\\s\\\\.]*\"\n",
    "\n",
    "    if time in [\"Not advised\", \"Not stated\", \"?\"]: return None\n",
    "    if not isinstance(time, str): time = str(time)\n",
    "    \n",
    "    try:\n",
    "        long_time = re.search(long_time_regex, time)\n",
    "        if long_time:\n",
    "            hours = long_time.group(1).zfill(2)\n",
    "            minutes = long_time.group(2)\n",
    "            return f\"{hours}:{minutes}\"\n",
    "\n",
    "        short_time = re.search(short_time_regex, time)\n",
    "        if short_time:\n",
    "            hours = short_time.group(1).zfill(2)\n",
    "            return f\"{hours}:00\"\n",
    "\n",
    "        return None\n",
    "    except ValueError: return time"
   ]
  },
  {
   "cell_type": "markdown",
   "id": "c00934de-bfcf-45d7-87b3-fb0ca9e9b924",
   "metadata": {},
   "source": [
    "## Apply functions to DataFrame\n",
    "\n",
    "1. Normalize date\n",
    "2. Format date\n",
    "3. Drop empty dates otherwise\n",
    "4. Normalize year\n",
    "5. Infer year\n",
    "6. Month grouping\n",
    "7. Sanitize time"
   ]
  },
  {
   "cell_type": "code",
   "execution_count": 371,
   "id": "f2dee1e5-d847-4d19-a7de-10e65ecb01d4",
   "metadata": {},
   "outputs": [
    {
     "data": {
      "text/plain": [
       "Date              399\n",
       "Year              124\n",
       "Type                7\n",
       "Country            74\n",
       "State             121\n",
       "Location          378\n",
       "Activity          145\n",
       "Name              393\n",
       "Sex                 3\n",
       "Age               110\n",
       "Injury            360\n",
       "Unnamed: 11         3\n",
       "Time               73\n",
       "Species           190\n",
       "Source            391\n",
       "pdf               406\n",
       "href formula      406\n",
       "href              406\n",
       "Case Number       405\n",
       "Case Number.1     405\n",
       "original order    407\n",
       "Unnamed: 21         0\n",
       "Unnamed: 22         0\n",
       "Month               8\n",
       "dtype: int64"
      ]
     },
     "execution_count": 371,
     "metadata": {},
     "output_type": "execute_result"
    }
   ],
   "source": [
    "df_copy = df.copy()\n",
    "\n",
    "df_copy.Date = df_copy.Date.apply(normalize_date)\n",
    "df_copy.Date = df_copy.Date.apply(format_date)\n",
    "\n",
    "df_copy.Year = df_copy.Year.apply(normalize_year)\n",
    "df_copy[[\"Date\", \"Year\"]] = df_copy[[\"Date\", \"Year\"]].apply(infer_year, axis=1)\n",
    "\n",
    "df_copy = df_copy.dropna(subset=\"Date\")\n",
    "\n",
    "df_copy[\"Month\"] = df_copy[\"Date\"].apply(month_grouping)\n",
    "df_copy[\"Time\"] = df_copy[\"Time\"].apply(sanitize_time)\n",
    "\n",
    "df_copy.nunique()"
   ]
  },
  {
   "cell_type": "code",
   "execution_count": 321,
   "id": "48d904ee-3722-4a16-87ba-4b963459d53b",
   "metadata": {},
   "outputs": [],
   "source": [
    "sharks_df = df_copy.copy()\n",
    "\n",
    "sharks_df['Country'] = sharks_df['Country'].str.split(' / ')\n",
    "\n",
    "#Explode the Country lists into separate rows\n",
    "sharks_df = sharks_df.explode('Country')\n",
    "sharks_df[\"Country\"].unique()\n",
    "#sharks_df[\"Country\"].nunique()\n",
    "\n",
    "#replace bad entries with a single country but too repetitive doesn't show true data cleaning\n",
    "sharks_df['Country'] = sharks_df['Country'].replace({'CEYLON (SRI LANKA)': 'Sri Lanka'})\n",
    "sharks_df['Country'] = sharks_df['Country'].replace({'ST HELENA, British overseas territory': 'Saint Helena'})\n",
    "\n",
    "\n",
    "\n",
    "sharks_df[\"Country\"] = sharks_df[\"Country\"].str.lower()\n",
    "sharks_df = sharks_df.dropna(subset=['Country'])\n",
    "\n",
    "#sharks_df[\"Country\"] = sharks_df[\"Country\"].replace({\"?\": \"\"})\n",
    "#Call method strip to strip off question marks at the end\n",
    "sharks_df['Country'] = sharks_df['Country'].str.strip('?')\n",
    "\n",
    "#call is in method to remove oceans+seas+continents\n",
    "\n",
    "# Wordslist to remove\n",
    "words_to_remove = ['Asia', 'Africa' , 'ocean' , 'sea']\n",
    "mask = ~sharks_df['Country'].isin(words_to_remove)\n",
    "# df_cleaned = df[mask]"
   ]
  },
  {
   "cell_type": "code",
   "execution_count": 323,
   "id": "267a25ff-6827-438a-92cb-d92a03e1e8e1",
   "metadata": {},
   "outputs": [
    {
     "data": {
      "text/plain": [
       "(6061, 24)"
      ]
     },
     "execution_count": 323,
     "metadata": {},
     "output_type": "execute_result"
    }
   ],
   "source": [
    "df_copy.shape"
   ]
  },
  {
   "cell_type": "code",
   "execution_count": 325,
   "id": "70cf4911-7ac8-4d1a-b4c2-53691ff72fc1",
   "metadata": {},
   "outputs": [
    {
     "data": {
      "text/html": [
       "<div>\n",
       "<style scoped>\n",
       "    .dataframe tbody tr th:only-of-type {\n",
       "        vertical-align: middle;\n",
       "    }\n",
       "\n",
       "    .dataframe tbody tr th {\n",
       "        vertical-align: top;\n",
       "    }\n",
       "\n",
       "    .dataframe thead th {\n",
       "        text-align: right;\n",
       "    }\n",
       "</style>\n",
       "<table border=\"1\" class=\"dataframe\">\n",
       "  <thead>\n",
       "    <tr style=\"text-align: right;\">\n",
       "      <th></th>\n",
       "      <th>Date</th>\n",
       "      <th>Year</th>\n",
       "      <th>Type</th>\n",
       "      <th>Country</th>\n",
       "      <th>State</th>\n",
       "      <th>Location</th>\n",
       "      <th>Activity</th>\n",
       "      <th>Name</th>\n",
       "      <th>Sex</th>\n",
       "      <th>Age</th>\n",
       "      <th>...</th>\n",
       "      <th>Source</th>\n",
       "      <th>pdf</th>\n",
       "      <th>href formula</th>\n",
       "      <th>href</th>\n",
       "      <th>Case Number</th>\n",
       "      <th>Case Number.1</th>\n",
       "      <th>original order</th>\n",
       "      <th>Unnamed: 21</th>\n",
       "      <th>Unnamed: 22</th>\n",
       "      <th>Month</th>\n",
       "    </tr>\n",
       "  </thead>\n",
       "  <tbody>\n",
       "    <tr>\n",
       "      <th>0</th>\n",
       "      <td>2024-10-14 00:00:00</td>\n",
       "      <td>2024.0</td>\n",
       "      <td>Unprovoked</td>\n",
       "      <td>Honduras</td>\n",
       "      <td>Tela</td>\n",
       "      <td>Atlantida</td>\n",
       "      <td>Swimming</td>\n",
       "      <td>Roberto Carlose Bu Mejia</td>\n",
       "      <td>M</td>\n",
       "      <td>38</td>\n",
       "      <td>...</td>\n",
       "      <td>Georgienne Bradley: Daily Mail UK: FTN News.com</td>\n",
       "      <td>NaN</td>\n",
       "      <td>NaN</td>\n",
       "      <td>NaN</td>\n",
       "      <td>NaN</td>\n",
       "      <td>NaN</td>\n",
       "      <td>NaN</td>\n",
       "      <td>NaN</td>\n",
       "      <td>NaN</td>\n",
       "      <td>October</td>\n",
       "    </tr>\n",
       "    <tr>\n",
       "      <th>1</th>\n",
       "      <td>2024-10-11 00:00:00</td>\n",
       "      <td>2024.0</td>\n",
       "      <td>Unprovoked</td>\n",
       "      <td>USA</td>\n",
       "      <td>Florida</td>\n",
       "      <td>Brevard County Orlando</td>\n",
       "      <td>Surfing</td>\n",
       "      <td>Teddy Witteman</td>\n",
       "      <td>M</td>\n",
       "      <td>16</td>\n",
       "      <td>...</td>\n",
       "      <td>Todd SmithFlorida today: News 4:</td>\n",
       "      <td>NaN</td>\n",
       "      <td>NaN</td>\n",
       "      <td>NaN</td>\n",
       "      <td>NaN</td>\n",
       "      <td>NaN</td>\n",
       "      <td>NaN</td>\n",
       "      <td>NaN</td>\n",
       "      <td>NaN</td>\n",
       "      <td>October</td>\n",
       "    </tr>\n",
       "    <tr>\n",
       "      <th>2</th>\n",
       "      <td>2024-09-17 00:00:00</td>\n",
       "      <td>2024.0</td>\n",
       "      <td>Unprovoked</td>\n",
       "      <td>Honduras</td>\n",
       "      <td>Trujillo Colon</td>\n",
       "      <td>Puerto Castillo</td>\n",
       "      <td>Diving for shellfish</td>\n",
       "      <td>Fernando Mendoza Ocampo</td>\n",
       "      <td>M</td>\n",
       "      <td>33</td>\n",
       "      <td>...</td>\n",
       "      <td>Daily Mail UK: The Sun UK:  The World Watch</td>\n",
       "      <td>NaN</td>\n",
       "      <td>NaN</td>\n",
       "      <td>NaN</td>\n",
       "      <td>NaN</td>\n",
       "      <td>NaN</td>\n",
       "      <td>NaN</td>\n",
       "      <td>NaN</td>\n",
       "      <td>NaN</td>\n",
       "      <td>September</td>\n",
       "    </tr>\n",
       "    <tr>\n",
       "      <th>3</th>\n",
       "      <td>2024-09-16 00:00:00</td>\n",
       "      <td>2024.0</td>\n",
       "      <td>Unprovoked</td>\n",
       "      <td>Morocco</td>\n",
       "      <td>Southern Morocco</td>\n",
       "      <td>West of Dakhla</td>\n",
       "      <td>Swimming - jumped off yacht</td>\n",
       "      <td>German Tourist</td>\n",
       "      <td>F</td>\n",
       "      <td>30</td>\n",
       "      <td>...</td>\n",
       "      <td>Andy Currie: Moroccan World News: Sky News</td>\n",
       "      <td>NaN</td>\n",
       "      <td>NaN</td>\n",
       "      <td>NaN</td>\n",
       "      <td>NaN</td>\n",
       "      <td>NaN</td>\n",
       "      <td>NaN</td>\n",
       "      <td>NaN</td>\n",
       "      <td>NaN</td>\n",
       "      <td>September</td>\n",
       "    </tr>\n",
       "    <tr>\n",
       "      <th>4</th>\n",
       "      <td>2024-08-26 00:00:00</td>\n",
       "      <td>2024.0</td>\n",
       "      <td>Unprovoked</td>\n",
       "      <td>Jamaica</td>\n",
       "      <td>Montego Bay</td>\n",
       "      <td>Falmouth</td>\n",
       "      <td>Spearfishing</td>\n",
       "      <td>Jahmari Reid</td>\n",
       "      <td>M</td>\n",
       "      <td>16</td>\n",
       "      <td>...</td>\n",
       "      <td>Todd Smith: Daily Mail UK: Sky News: People .com</td>\n",
       "      <td>NaN</td>\n",
       "      <td>NaN</td>\n",
       "      <td>NaN</td>\n",
       "      <td>NaN</td>\n",
       "      <td>NaN</td>\n",
       "      <td>NaN</td>\n",
       "      <td>NaN</td>\n",
       "      <td>NaN</td>\n",
       "      <td>August</td>\n",
       "    </tr>\n",
       "    <tr>\n",
       "      <th>5</th>\n",
       "      <td>2024-08-06 00:00:00</td>\n",
       "      <td>2024.0</td>\n",
       "      <td>Unprovoked</td>\n",
       "      <td>Belize</td>\n",
       "      <td>Gulf of Honduras</td>\n",
       "      <td>Central America</td>\n",
       "      <td>Swimming - Diving</td>\n",
       "      <td>Annabelle Carlson</td>\n",
       "      <td>F</td>\n",
       "      <td>15</td>\n",
       "      <td>...</td>\n",
       "      <td>Kevin McMurray Tracking Sharks.com New York Po...</td>\n",
       "      <td>NaN</td>\n",
       "      <td>NaN</td>\n",
       "      <td>NaN</td>\n",
       "      <td>NaN</td>\n",
       "      <td>NaN</td>\n",
       "      <td>NaN</td>\n",
       "      <td>NaN</td>\n",
       "      <td>NaN</td>\n",
       "      <td>August</td>\n",
       "    </tr>\n",
       "    <tr>\n",
       "      <th>6</th>\n",
       "      <td>2024-07-23 00:00:00</td>\n",
       "      <td>2024.0</td>\n",
       "      <td>Unprovoked</td>\n",
       "      <td>Australia</td>\n",
       "      <td>NSW</td>\n",
       "      <td>North Shore Beach, Port Macquarie</td>\n",
       "      <td>Surfing</td>\n",
       "      <td>Kai McKenzie</td>\n",
       "      <td>M</td>\n",
       "      <td>23</td>\n",
       "      <td>...</td>\n",
       "      <td>Nine.com.au: ABC.Net.Au Johannes Marchand</td>\n",
       "      <td>NaN</td>\n",
       "      <td>NaN</td>\n",
       "      <td>NaN</td>\n",
       "      <td>NaN</td>\n",
       "      <td>NaN</td>\n",
       "      <td>NaN</td>\n",
       "      <td>NaN</td>\n",
       "      <td>NaN</td>\n",
       "      <td>July</td>\n",
       "    </tr>\n",
       "    <tr>\n",
       "      <th>7</th>\n",
       "      <td>2024-07-18 00:00:00</td>\n",
       "      <td>2024.0</td>\n",
       "      <td>Unprovoked</td>\n",
       "      <td>Australia</td>\n",
       "      <td>Western Australia</td>\n",
       "      <td>Trigg beach Sterling</td>\n",
       "      <td>Surfing</td>\n",
       "      <td>Ryan Lowther</td>\n",
       "      <td>M</td>\n",
       "      <td>41</td>\n",
       "      <td>...</td>\n",
       "      <td>Daily Mail: Sky News: The West Australian</td>\n",
       "      <td>NaN</td>\n",
       "      <td>NaN</td>\n",
       "      <td>NaN</td>\n",
       "      <td>NaN</td>\n",
       "      <td>NaN</td>\n",
       "      <td>NaN</td>\n",
       "      <td>NaN</td>\n",
       "      <td>NaN</td>\n",
       "      <td>July</td>\n",
       "    </tr>\n",
       "    <tr>\n",
       "      <th>8</th>\n",
       "      <td>2024-07-08 00:00:00</td>\n",
       "      <td>2024.0</td>\n",
       "      <td>Unprovoked</td>\n",
       "      <td>USA</td>\n",
       "      <td>Florida</td>\n",
       "      <td>Ponce de Leon Inlet Volusia County</td>\n",
       "      <td>Diving into Water</td>\n",
       "      <td>Dempsey Manhart</td>\n",
       "      <td>M</td>\n",
       "      <td>14</td>\n",
       "      <td>...</td>\n",
       "      <td>Miami Herald</td>\n",
       "      <td>NaN</td>\n",
       "      <td>NaN</td>\n",
       "      <td>NaN</td>\n",
       "      <td>NaN</td>\n",
       "      <td>NaN</td>\n",
       "      <td>NaN</td>\n",
       "      <td>NaN</td>\n",
       "      <td>NaN</td>\n",
       "      <td>July</td>\n",
       "    </tr>\n",
       "    <tr>\n",
       "      <th>9</th>\n",
       "      <td>2024-07-05 00:00:00</td>\n",
       "      <td>2024.0</td>\n",
       "      <td>Unprovoked</td>\n",
       "      <td>USA</td>\n",
       "      <td>Florida</td>\n",
       "      <td>New Smyrna Beach</td>\n",
       "      <td>Wading</td>\n",
       "      <td>Not stated</td>\n",
       "      <td>M</td>\n",
       "      <td>26</td>\n",
       "      <td>...</td>\n",
       "      <td>Sacbee Fox 35</td>\n",
       "      <td>NaN</td>\n",
       "      <td>NaN</td>\n",
       "      <td>NaN</td>\n",
       "      <td>NaN</td>\n",
       "      <td>NaN</td>\n",
       "      <td>NaN</td>\n",
       "      <td>NaN</td>\n",
       "      <td>NaN</td>\n",
       "      <td>July</td>\n",
       "    </tr>\n",
       "  </tbody>\n",
       "</table>\n",
       "<p>10 rows × 24 columns</p>\n",
       "</div>"
      ],
      "text/plain": [
       "                  Date    Year        Type    Country              State  \\\n",
       "0  2024-10-14 00:00:00  2024.0  Unprovoked   Honduras               Tela   \n",
       "1  2024-10-11 00:00:00  2024.0  Unprovoked        USA            Florida   \n",
       "2  2024-09-17 00:00:00  2024.0  Unprovoked   Honduras     Trujillo Colon   \n",
       "3  2024-09-16 00:00:00  2024.0  Unprovoked    Morocco   Southern Morocco   \n",
       "4  2024-08-26 00:00:00  2024.0  Unprovoked    Jamaica        Montego Bay   \n",
       "5  2024-08-06 00:00:00  2024.0  Unprovoked     Belize   Gulf of Honduras   \n",
       "6  2024-07-23 00:00:00  2024.0  Unprovoked  Australia                NSW   \n",
       "7  2024-07-18 00:00:00  2024.0  Unprovoked  Australia  Western Australia   \n",
       "8  2024-07-08 00:00:00  2024.0  Unprovoked        USA            Florida   \n",
       "9  2024-07-05 00:00:00  2024.0  Unprovoked        USA            Florida   \n",
       "\n",
       "                             Location                     Activity  \\\n",
       "0                           Atlantida                     Swimming   \n",
       "1              Brevard County Orlando                      Surfing   \n",
       "2                     Puerto Castillo         Diving for shellfish   \n",
       "3                      West of Dakhla  Swimming - jumped off yacht   \n",
       "4                            Falmouth                 Spearfishing   \n",
       "5                     Central America           Swimming - Diving    \n",
       "6   North Shore Beach, Port Macquarie                      Surfing   \n",
       "7                Trigg beach Sterling                      Surfing   \n",
       "8  Ponce de Leon Inlet Volusia County            Diving into Water   \n",
       "9                    New Smyrna Beach                       Wading   \n",
       "\n",
       "                       Name Sex Age  ...  \\\n",
       "0  Roberto Carlose Bu Mejia   M  38  ...   \n",
       "1            Teddy Witteman   M  16  ...   \n",
       "2   Fernando Mendoza Ocampo   M  33  ...   \n",
       "3            German Tourist   F  30  ...   \n",
       "4              Jahmari Reid   M  16  ...   \n",
       "5         Annabelle Carlson   F  15  ...   \n",
       "6              Kai McKenzie   M  23  ...   \n",
       "7              Ryan Lowther   M  41  ...   \n",
       "8           Dempsey Manhart   M  14  ...   \n",
       "9                Not stated   M  26  ...   \n",
       "\n",
       "                                              Source  pdf href formula href  \\\n",
       "0    Georgienne Bradley: Daily Mail UK: FTN News.com  NaN          NaN  NaN   \n",
       "1                   Todd SmithFlorida today: News 4:  NaN          NaN  NaN   \n",
       "2        Daily Mail UK: The Sun UK:  The World Watch  NaN          NaN  NaN   \n",
       "3         Andy Currie: Moroccan World News: Sky News  NaN          NaN  NaN   \n",
       "4   Todd Smith: Daily Mail UK: Sky News: People .com  NaN          NaN  NaN   \n",
       "5  Kevin McMurray Tracking Sharks.com New York Po...  NaN          NaN  NaN   \n",
       "6          Nine.com.au: ABC.Net.Au Johannes Marchand  NaN          NaN  NaN   \n",
       "7          Daily Mail: Sky News: The West Australian  NaN          NaN  NaN   \n",
       "8                                       Miami Herald  NaN          NaN  NaN   \n",
       "9                                      Sacbee Fox 35  NaN          NaN  NaN   \n",
       "\n",
       "  Case Number Case Number.1 original order Unnamed: 21 Unnamed: 22      Month  \n",
       "0         NaN           NaN            NaN         NaN         NaN    October  \n",
       "1         NaN           NaN            NaN         NaN         NaN    October  \n",
       "2         NaN           NaN            NaN         NaN         NaN  September  \n",
       "3         NaN           NaN            NaN         NaN         NaN  September  \n",
       "4         NaN           NaN            NaN         NaN         NaN     August  \n",
       "5         NaN           NaN            NaN         NaN         NaN     August  \n",
       "6         NaN           NaN            NaN         NaN         NaN       July  \n",
       "7         NaN           NaN            NaN         NaN         NaN       July  \n",
       "8         NaN           NaN            NaN         NaN         NaN       July  \n",
       "9         NaN           NaN            NaN         NaN         NaN       July  \n",
       "\n",
       "[10 rows x 24 columns]"
      ]
     },
     "execution_count": 325,
     "metadata": {},
     "output_type": "execute_result"
    }
   ],
   "source": [
    "df_copy.head(10)"
   ]
  },
  {
   "cell_type": "code",
   "execution_count": 327,
   "id": "1fb8a16b-2f48-431b-aef0-8a0f8a52cb5b",
   "metadata": {},
   "outputs": [
    {
     "data": {
      "text/plain": [
       "0                                     2024-10-14 00:00:00\n",
       "1                                     2024-10-11 00:00:00\n",
       "2                                     2024-09-17 00:00:00\n",
       "3                                     2024-09-16 00:00:00\n",
       "4                                     2024-08-26 00:00:00\n",
       "                              ...                        \n",
       "6916                                  before  19-jun-1959\n",
       "6917                                  before  24 apr-1959\n",
       "6959                                   before 17-jul-1916\n",
       "6960    no date (3 days after preceding incident) & pr...\n",
       "6961                                   before 19-jul-1913\n",
       "Name: Date, Length: 6061, dtype: object"
      ]
     },
     "execution_count": 327,
     "metadata": {},
     "output_type": "execute_result"
    }
   ],
   "source": [
    "df_copy[\"Date\"]"
   ]
  },
  {
   "cell_type": "code",
   "execution_count": 329,
   "id": "615a9618-eb2b-4011-96c6-174fe609b3f0",
   "metadata": {},
   "outputs": [
    {
     "name": "stdout",
     "output_type": "stream",
     "text": [
      "Date              5332\n",
      "Year               223\n",
      "Type                12\n",
      "Country            199\n",
      "State              767\n",
      "Location          4047\n",
      "Activity          1336\n",
      "Name              5111\n",
      "Sex                  8\n",
      "Age                233\n",
      "Injury            3657\n",
      "Unnamed: 11         10\n",
      "Time               279\n",
      "Species           1565\n",
      "Source            4694\n",
      "pdf               5882\n",
      "href formula      5878\n",
      "href              5869\n",
      "Case Number       5871\n",
      "Case Number.1     5869\n",
      "original order    5888\n",
      "Unnamed: 21          1\n",
      "Unnamed: 22          2\n",
      "Month             4941\n",
      "dtype: int64\n"
     ]
    }
   ],
   "source": [
    "print(df_copy.nunique())"
   ]
  },
  {
   "cell_type": "code",
   "execution_count": 331,
   "id": "e69c3ef3-0e5c-4d6d-8832-77b2fa9dea11",
   "metadata": {},
   "outputs": [],
   "source": [
    "columns_few_unique_values= [\"Year\", \"Type\", \"Sex\"]"
   ]
  },
  {
   "cell_type": "code",
   "execution_count": 222,
   "id": "22c255af-a672-440d-ae9d-c6f8bc7dbf61",
   "metadata": {},
   "outputs": [
    {
     "name": "stdout",
     "output_type": "stream",
     "text": [
      "unique values for Year:\n",
      "[2024. 2026. 2025. 2023. 2022. 2021. 2020. 2019. 2018. 2017.   nan 2016.\n",
      " 2015. 2014. 2013. 2012. 2011. 2010. 2009. 2008. 2007. 2006. 2005. 2004.\n",
      " 2003. 2002. 2001. 2000. 1999. 1998. 1997. 1996. 1995. 1984. 1994. 1993.\n",
      " 1992. 1991. 1990. 1989. 1969. 1988. 1987. 1986. 1985. 1983. 1982. 1981.\n",
      " 1980. 1979. 1978. 1977. 1976. 1975. 1974. 1973. 1972. 1971. 1970. 1968.\n",
      " 1967. 1966. 1965. 1964. 1963. 1962. 1961. 1960. 1959. 1958. 1957. 1956.\n",
      " 1955. 1954. 1953. 1952. 1951. 1950. 1949. 1948. 1848. 1947. 1946. 1945.\n",
      " 1944. 1943. 1942. 1941. 1940. 1939. 1938. 1937. 1936. 1935. 1934. 1933.\n",
      " 1932. 1931. 1930. 1929. 1928. 1927. 1926. 1925. 1924. 1923. 1922. 1921.\n",
      " 1920. 1919. 1918. 1917. 1916. 1915. 1914. 1913. 1912. 1911. 1910. 1909.\n",
      " 1908. 1907. 1906. 1905. 1904. 1903. 1902. 1901. 1900. 1899. 1898. 1897.\n",
      " 1896. 1895. 1894. 1893. 1892. 1891. 1890. 1889. 1888. 1887. 1886. 1885.\n",
      " 1884. 1883. 1882. 1881. 1880. 1879. 1878. 1877. 1876. 1875. 1874. 1873.\n",
      " 1872. 1871. 1870. 1869. 1868. 1867. 1866. 1865. 1864. 1863. 1862. 1861.\n",
      " 1860. 1859. 1858. 1857. 1856. 1855. 1853. 1852. 1851. 1850. 1849. 1847.\n",
      " 1846. 1845. 1844. 1842. 1841. 1840. 1839. 1837. 1835. 1834. 1832. 1831.\n",
      " 1830. 1829. 1828. 1826. 1823. 1822. 1819. 1818. 1817. 1816. 1811. 1810.\n",
      " 1808. 1807. 1804. 1801. 1792. 1788. 1787. 1786. 1785. 1784. 1783. 1780.\n",
      " 1771. 1753. 1751. 1742. 1738. 1703. 1640. 1580.]\n",
      "\n",
      "unique values for Type:\n",
      "['Unprovoked' ' Provoked' 'Provoked' 'Questionable' 'Watercraft'\n",
      " 'Sea Disaster' nan '?' 'Unconfirmed' 'Unverified' 'Invalid'\n",
      " 'Under investigation' 'Boat']\n",
      "\n",
      "unique values for Sex:\n",
      "['M' 'F' nan ' M' 'M ' 'lli' 'M x 2' 'N' '.']\n",
      "\n"
     ]
    }
   ],
   "source": [
    "for column in columns_few_unique_values: \n",
    "    unique_values= df_copy[column].unique()\n",
    "    print(f\"unique values for {column}:\")\n",
    "    print(unique_values)\n",
    "    print()"
   ]
  },
  {
   "cell_type": "code",
   "execution_count": 333,
   "id": "b7c11df7-ed3b-4427-b926-20f21c385d24",
   "metadata": {},
   "outputs": [],
   "source": [
    "categorical_variables = [\"Activity\"]"
   ]
  },
  {
   "cell_type": "code",
   "execution_count": 335,
   "id": "7bca2d9e-e346-494d-b86c-da59aaf4a994",
   "metadata": {},
   "outputs": [
    {
     "name": "stdout",
     "output_type": "stream",
     "text": [
      "Activity\n",
      "Surfing                                                                                    1090\n",
      "Swimming                                                                                    900\n",
      "Fishing                                                                                     431\n",
      "Spearfishing                                                                                317\n",
      "Wading                                                                                      163\n",
      "                                                                                           ... \n",
      "Water-skiing                                                                                  1\n",
      "Surfing & dangling foot in water amid baitfish                                                1\n",
      "Floating on air mattress                                                                      1\n",
      "14 m prawn trawler New Venture capsized  & sank in heavy seas Three people in the water       1\n",
      "Crossing river on a raft                                                                      1\n",
      "Name: count, Length: 1336, dtype: int64\n"
     ]
    }
   ],
   "source": [
    "for column in categorical_variables:\n",
    "    print(df_copy[column].value_counts())"
   ]
  },
  {
   "cell_type": "code",
   "execution_count": 337,
   "id": "ca453680-18cc-43b7-ae78-fe80fbba0482",
   "metadata": {},
   "outputs": [
    {
     "name": "stdout",
     "output_type": "stream",
     "text": [
      "State\n",
      "Florida                        1113\n",
      "New South Wales                 490\n",
      "Queensland                      330\n",
      "California                      313\n",
      "Hawaii                          312\n",
      "                               ... \n",
      "New Mexico                        1\n",
      "Bay Islands                       1\n",
      "South Ch'ungch'ong Province       1\n",
      "Shanghai                          1\n",
      "Island of Volos                   1\n",
      "Name: count, Length: 767, dtype: int64\n"
     ]
    }
   ],
   "source": [
    "print(df_copy[\"State\"].value_counts())"
   ]
  },
  {
   "cell_type": "code",
   "execution_count": 339,
   "id": "fa55c584-7d1a-4290-b361-9ba41dfef9ea",
   "metadata": {},
   "outputs": [
    {
     "name": "stdout",
     "output_type": "stream",
     "text": [
      "Requirement already satisfied: seaborn in /opt/anaconda3/lib/python3.12/site-packages (0.13.2)\n",
      "Requirement already satisfied: numpy!=1.24.0,>=1.20 in /opt/anaconda3/lib/python3.12/site-packages (from seaborn) (1.26.4)\n",
      "Requirement already satisfied: pandas>=1.2 in /opt/anaconda3/lib/python3.12/site-packages (from seaborn) (2.2.2)\n",
      "Requirement already satisfied: matplotlib!=3.6.1,>=3.4 in /opt/anaconda3/lib/python3.12/site-packages (from seaborn) (3.8.4)\n",
      "Requirement already satisfied: contourpy>=1.0.1 in /opt/anaconda3/lib/python3.12/site-packages (from matplotlib!=3.6.1,>=3.4->seaborn) (1.2.0)\n",
      "Requirement already satisfied: cycler>=0.10 in /opt/anaconda3/lib/python3.12/site-packages (from matplotlib!=3.6.1,>=3.4->seaborn) (0.11.0)\n",
      "Requirement already satisfied: fonttools>=4.22.0 in /opt/anaconda3/lib/python3.12/site-packages (from matplotlib!=3.6.1,>=3.4->seaborn) (4.51.0)\n",
      "Requirement already satisfied: kiwisolver>=1.3.1 in /opt/anaconda3/lib/python3.12/site-packages (from matplotlib!=3.6.1,>=3.4->seaborn) (1.4.4)\n",
      "Requirement already satisfied: packaging>=20.0 in /opt/anaconda3/lib/python3.12/site-packages (from matplotlib!=3.6.1,>=3.4->seaborn) (23.2)\n",
      "Requirement already satisfied: pillow>=8 in /opt/anaconda3/lib/python3.12/site-packages (from matplotlib!=3.6.1,>=3.4->seaborn) (10.3.0)\n",
      "Requirement already satisfied: pyparsing>=2.3.1 in /opt/anaconda3/lib/python3.12/site-packages (from matplotlib!=3.6.1,>=3.4->seaborn) (3.0.9)\n",
      "Requirement already satisfied: python-dateutil>=2.7 in /opt/anaconda3/lib/python3.12/site-packages (from matplotlib!=3.6.1,>=3.4->seaborn) (2.9.0.post0)\n",
      "Requirement already satisfied: pytz>=2020.1 in /opt/anaconda3/lib/python3.12/site-packages (from pandas>=1.2->seaborn) (2024.1)\n",
      "Requirement already satisfied: tzdata>=2022.7 in /opt/anaconda3/lib/python3.12/site-packages (from pandas>=1.2->seaborn) (2023.3)\n",
      "Requirement already satisfied: six>=1.5 in /opt/anaconda3/lib/python3.12/site-packages (from python-dateutil>=2.7->matplotlib!=3.6.1,>=3.4->seaborn) (1.16.0)\n"
     ]
    }
   ],
   "source": [
    "!pip install seaborn"
   ]
  },
  {
   "cell_type": "code",
   "execution_count": 340,
   "id": "f0e221ca-37f0-4fb3-aafc-18aa8e17c9e0",
   "metadata": {},
   "outputs": [],
   "source": [
    "import seaborn as sns"
   ]
  },
  {
   "cell_type": "code",
   "execution_count": 341,
   "id": "ba281a58-50d5-489f-a65d-f461ddcbed99",
   "metadata": {},
   "outputs": [
    {
     "data": {
      "text/plain": [
       "<Axes: xlabel='Sex', ylabel='count'>"
      ]
     },
     "execution_count": 341,
     "metadata": {},
     "output_type": "execute_result"
    },
    {
     "data": {
      "image/png": "[encoded data removed]",
      "text/plain": [
       "<Figure size 640x480 with 1 Axes>"
      ]
     },
     "metadata": {},
     "output_type": "display_data"
    }
   ],
   "source": [
    "sns.countplot(x='Sex', data=df_copy)"
   ]
  },
  {
   "cell_type": "code",
   "execution_count": 344,
   "id": "1c783069-8564-4814-a086-1ba08cea7bfe",
   "metadata": {},
   "outputs": [
    {
     "data": {
      "text/plain": [
       "<Axes: xlabel='Year', ylabel='count'>"
      ]
     },
     "execution_count": 344,
     "metadata": {},
     "output_type": "execute_result"
    },
    {
     "data": {
      "image/png": "[encoded data removed]",
      "text/plain": [
       "<Figure size 640x480 with 1 Axes>"
      ]
     },
     "metadata": {},
     "output_type": "display_data"
    }
   ],
   "source": [
    "sns.countplot(x='Year', data=df_copy)"
   ]
  },
  {
   "cell_type": "code",
   "execution_count": 346,
   "id": "cc46c807-d5e4-4fee-bbbe-444ff32d4869",
   "metadata": {},
   "outputs": [
    {
     "data": {
      "text/plain": [
       "<Axes: xlabel='Type', ylabel='count'>"
      ]
     },
     "execution_count": 346,
     "metadata": {},
     "output_type": "execute_result"
    },
    {
     "data": {
      "image/png": "[encoded data removed]",
      "text/plain": [
       "<Figure size 640x480 with 1 Axes>"
      ]
     },
     "metadata": {},
     "output_type": "display_data"
    }
   ],
   "source": [
    "sns.countplot(x='Type', data=df_copy)"
   ]
  },
  {
   "cell_type": "code",
   "execution_count": 347,
   "id": "29398c8d-d8c1-4c0a-925f-73933cb06bb6",
   "metadata": {},
   "outputs": [
    {
     "data": {
      "text/plain": [
       "<Axes: xlabel='Country', ylabel='count'>"
      ]
     },
     "execution_count": 347,
     "metadata": {},
     "output_type": "execute_result"
    },
    {
     "data": {
      "image/png": "[encoded data removed]",
      "text/plain": [
       "<Figure size 640x480 with 1 Axes>"
      ]
     },
     "metadata": {},
     "output_type": "display_data"
    }
   ],
   "source": [
    "sns.countplot(x='Country', data=df_copy)"
   ]
  },
  {
   "cell_type": "code",
   "execution_count": 349,
   "id": "5794c0f4-6e01-49c1-8daa-80ebeb683b20",
   "metadata": {},
   "outputs": [
    {
     "data": {
      "text/plain": [
       "<Axes: xlabel='State', ylabel='count'>"
      ]
     },
     "execution_count": 349,
     "metadata": {},
     "output_type": "execute_result"
    },
    {
     "data": {
      "image/png": "[encoded data removed]",
      "text/plain": [
       "<Figure size 640x480 with 1 Axes>"
      ]
     },
     "metadata": {},
     "output_type": "display_data"
    }
   ],
   "source": [
    "sns.countplot(x='State', data=df_copy)"
   ]
  },
  {
   "cell_type": "code",
   "execution_count": 351,
   "id": "05112d74-ddec-48b5-a374-d04392291fd2",
   "metadata": {},
   "outputs": [
    {
     "data": {
      "text/plain": [
       "<Axes: xlabel='Activity', ylabel='count'>"
      ]
     },
     "execution_count": 351,
     "metadata": {},
     "output_type": "execute_result"
    },
    {
     "data": {
      "image/png": "[encoded data removed]",
      "text/plain": [
       "<Figure size 640x480 with 1 Axes>"
      ]
     },
     "metadata": {},
     "output_type": "display_data"
    }
   ],
   "source": [
    "sns.countplot(x='Activity', data=df_copy)"
   ]
  },
  {
   "cell_type": "code",
   "execution_count": 353,
   "id": "b6662fce-5bb5-457f-8c52-5ead460886f5",
   "metadata": {},
   "outputs": [
    {
     "data": {
      "text/plain": [
       "<Axes: xlabel='Age', ylabel='count'>"
      ]
     },
     "execution_count": 353,
     "metadata": {},
     "output_type": "execute_result"
    },
    {
     "data": {
      "image/png": "[encoded data removed]",
      "text/plain": [
       "<Figure size 640x480 with 1 Axes>"
      ]
     },
     "metadata": {},
     "output_type": "display_data"
    }
   ],
   "source": [
    "sns.countplot(x='Age', data=df_copy)"
   ]
  },
  {
   "cell_type": "code",
   "execution_count": 354,
   "id": "8c30d083-6b2d-4917-a8fd-0ccb4c67be7c",
   "metadata": {},
   "outputs": [
    {
     "name": "stdout",
     "output_type": "stream",
     "text": [
      "Age\n",
      "19             89\n",
      "16             88\n",
      "17             85\n",
      "18             81\n",
      "17             81\n",
      "               ..\n",
      "77              1\n",
      "Teens           1\n",
      "28, 23 & 30     1\n",
      "46 & 34         1\n",
      "1               1\n",
      "Name: count, Length: 233, dtype: int64\n"
     ]
    }
   ],
   "source": [
    "print(df_copy[\"Age\"].value_counts())"
   ]
  },
  {
   "cell_type": "code",
   "execution_count": 355,
   "id": "50eb082f-4a9e-4458-85ba-59f800e7c00f",
   "metadata": {},
   "outputs": [
    {
     "name": "stdout",
     "output_type": "stream",
     "text": [
      "Injury\n",
      "FATAL                                                                      693\n",
      "Foot bitten                                                                 90\n",
      "Survived                                                                    71\n",
      "Leg bitten                                                                  70\n",
      "No injury                                                                   64\n",
      "                                                                          ... \n",
      "No injury to occupants; shark nudged the 5.3 m boat                          1\n",
      "2 bite marks on right calf                                                   1\n",
      "Severe bite to right leg FATAL                                               1\n",
      "No injury to occupant; shark bumped the kayak repeatedly for 15 minutes      1\n",
      "FATAL, leg stripped of flesh                                                 1\n",
      "Name: count, Length: 3657, dtype: int64\n"
     ]
    }
   ],
   "source": [
    "print(df_copy[\"Injury\"].value_counts())"
   ]
  },
  {
   "cell_type": "code",
   "execution_count": 357,
   "id": "261bf83f-b0b6-4c4d-b6b5-99fa3dad7d54",
   "metadata": {},
   "outputs": [
    {
     "name": "stdout",
     "output_type": "stream",
     "text": [
      "Time\n",
      "11:00    137\n",
      "15:00    129\n",
      "16:00    123\n",
      "12:00    119\n",
      "14:00    119\n",
      "        ... \n",
      "15:25      1\n",
      "19:05      1\n",
      "10:43      1\n",
      "17:34      1\n",
      "01:50      1\n",
      "Name: count, Length: 279, dtype: int64\n"
     ]
    }
   ],
   "source": [
    "print(df_copy[\"Time\"].value_counts())"
   ]
  },
  {
   "cell_type": "code",
   "execution_count": 358,
   "id": "a39aba03-1472-4f15-83cf-ae6a009f5e77",
   "metadata": {},
   "outputs": [
    {
     "data": {
      "text/plain": [
       "Month\n",
       "      03-mar-2000                                                   1\n",
       "      05-jan-1988                                                   1\n",
       "      10-dec-1994                                                   1\n",
       "      10-nov-1983                                                   1\n",
       "      13-apr-2007                                                   1\n",
       "                                                                   ..\n",
       "no date (3 days after preceding incident) & prior to 19-jul-1913    1\n",
       "no date, before 3-jan-1967                                          1\n",
       "reportd 15-jul-1894                                                 1\n",
       "reprted 05-jan-1882                                                 1\n",
       "some time between 08-jan-1928 & 21-jan-1928                         1\n",
       "Length: 4941, dtype: int64"
      ]
     },
     "execution_count": 358,
     "metadata": {},
     "output_type": "execute_result"
    }
   ],
   "source": [
    "df_copy.groupby(\"Month\").size()"
   ]
  },
  {
   "cell_type": "code",
   "execution_count": 365,
   "id": "7993b096-cf52-46f8-bc97-f2e02a5b95cd",
   "metadata": {},
   "outputs": [],
   "source": [
    "# Function to convert month input to a number\n",
    "def get_month_number(month_input):\n",
    "    try:\n",
    "        # Try to convert directly if input is numeric\n",
    "        return int(month_input)\n",
    "    except ValueError:\n",
    "        # Convert string month names (e.g., \"aug\" or \"August\") to month number\n",
    "        month_input = month_input.strip().lower()\n",
    "        months = {name.lower(): num for num, name in enumerate(calendar.month_name) if name}\n",
    "        months.update({name.lower(): num for num, name in enumerate(calendar.month_abbr) if name})\n",
    "        return months.get(month_input)"
   ]
  },
  {
   "cell_type": "code",
   "execution_count": 439,
   "id": "8cd1fdf7-239c-4510-9404-714eb447b57f",
   "metadata": {},
   "outputs": [
    {
     "name": "stdout",
     "output_type": "stream",
     "text": [
      "Shark attack records found for location 'Florida' in month '05':\n"
     ]
    },
    {
     "data": {
      "text/html": [
       "<div>\n",
       "<style scoped>\n",
       "    .dataframe tbody tr th:only-of-type {\n",
       "        vertical-align: middle;\n",
       "    }\n",
       "\n",
       "    .dataframe tbody tr th {\n",
       "        vertical-align: top;\n",
       "    }\n",
       "\n",
       "    .dataframe thead th {\n",
       "        text-align: right;\n",
       "    }\n",
       "</style>\n",
       "<table border=\"1\" class=\"dataframe\">\n",
       "  <thead>\n",
       "    <tr style=\"text-align: right;\">\n",
       "      <th></th>\n",
       "      <th>Date</th>\n",
       "      <th>Year</th>\n",
       "      <th>Type</th>\n",
       "      <th>Country</th>\n",
       "      <th>State</th>\n",
       "      <th>Location</th>\n",
       "      <th>Activity</th>\n",
       "      <th>Name</th>\n",
       "      <th>Sex</th>\n",
       "      <th>Age</th>\n",
       "      <th>...</th>\n",
       "      <th>Source</th>\n",
       "      <th>pdf</th>\n",
       "      <th>href formula</th>\n",
       "      <th>href</th>\n",
       "      <th>Case Number</th>\n",
       "      <th>Case Number.1</th>\n",
       "      <th>original order</th>\n",
       "      <th>Unnamed: 21</th>\n",
       "      <th>Unnamed: 22</th>\n",
       "      <th>Month</th>\n",
       "    </tr>\n",
       "  </thead>\n",
       "  <tbody>\n",
       "    <tr>\n",
       "      <th>109</th>\n",
       "      <td>2023-05-19</td>\n",
       "      <td>2023.0</td>\n",
       "      <td>Provoked</td>\n",
       "      <td>USA</td>\n",
       "      <td>Florida</td>\n",
       "      <td>Flagship Drive, Summerland Key, Monroe County</td>\n",
       "      <td>Fishing</td>\n",
       "      <td>male</td>\n",
       "      <td>M</td>\n",
       "      <td>35</td>\n",
       "      <td>...</td>\n",
       "      <td>AP, 5/19/2023</td>\n",
       "      <td>NaN</td>\n",
       "      <td>NaN</td>\n",
       "      <td>NaN</td>\n",
       "      <td>NaN</td>\n",
       "      <td>NaN</td>\n",
       "      <td>NaN</td>\n",
       "      <td>NaN</td>\n",
       "      <td>NaN</td>\n",
       "      <td>May</td>\n",
       "    </tr>\n",
       "    <tr>\n",
       "      <th>110</th>\n",
       "      <td>2023-05-18</td>\n",
       "      <td>2023.0</td>\n",
       "      <td>Unprovoked</td>\n",
       "      <td>USA</td>\n",
       "      <td>Florida</td>\n",
       "      <td>Marathon, Monroe County</td>\n",
       "      <td>Spearfishing</td>\n",
       "      <td>Kevin Blanco</td>\n",
       "      <td>M</td>\n",
       "      <td>20</td>\n",
       "      <td>...</td>\n",
       "      <td>J. Marchand, GSAF</td>\n",
       "      <td>NaN</td>\n",
       "      <td>NaN</td>\n",
       "      <td>NaN</td>\n",
       "      <td>NaN</td>\n",
       "      <td>NaN</td>\n",
       "      <td>NaN</td>\n",
       "      <td>NaN</td>\n",
       "      <td>NaN</td>\n",
       "      <td>May</td>\n",
       "    </tr>\n",
       "    <tr>\n",
       "      <th>113</th>\n",
       "      <td>2023-05-11</td>\n",
       "      <td>2023.0</td>\n",
       "      <td>Unprovoked</td>\n",
       "      <td>USA</td>\n",
       "      <td>Florida</td>\n",
       "      <td>Fort Pierce, St. Lucie County</td>\n",
       "      <td>Sitting</td>\n",
       "      <td>Ella Reed</td>\n",
       "      <td>F</td>\n",
       "      <td>13</td>\n",
       "      <td>...</td>\n",
       "      <td>.A. Curriie, GSAF</td>\n",
       "      <td>NaN</td>\n",
       "      <td>NaN</td>\n",
       "      <td>NaN</td>\n",
       "      <td>NaN</td>\n",
       "      <td>NaN</td>\n",
       "      <td>NaN</td>\n",
       "      <td>NaN</td>\n",
       "      <td>NaN</td>\n",
       "      <td>May</td>\n",
       "    </tr>\n",
       "    <tr>\n",
       "      <th>116</th>\n",
       "      <td>2023-05-05</td>\n",
       "      <td>2023.0</td>\n",
       "      <td>Unprovoked</td>\n",
       "      <td>USA</td>\n",
       "      <td>Florida</td>\n",
       "      <td>Davis Reef, Islamorada, Monroe County</td>\n",
       "      <td>Spearfishing</td>\n",
       "      <td>Ethan Wilder</td>\n",
       "      <td>M</td>\n",
       "      <td>22</td>\n",
       "      <td>...</td>\n",
       "      <td>News19, 5/5/2023</td>\n",
       "      <td>NaN</td>\n",
       "      <td>NaN</td>\n",
       "      <td>NaN</td>\n",
       "      <td>NaN</td>\n",
       "      <td>NaN</td>\n",
       "      <td>NaN</td>\n",
       "      <td>NaN</td>\n",
       "      <td>NaN</td>\n",
       "      <td>May</td>\n",
       "    </tr>\n",
       "    <tr>\n",
       "      <th>313</th>\n",
       "      <td>2021-05-06</td>\n",
       "      <td>2021.0</td>\n",
       "      <td>Unprovoked</td>\n",
       "      <td>USA</td>\n",
       "      <td>Florida</td>\n",
       "      <td>Daytona Beach Shores, Volusia County</td>\n",
       "      <td>Wading</td>\n",
       "      <td>female</td>\n",
       "      <td>F</td>\n",
       "      <td>21</td>\n",
       "      <td>...</td>\n",
       "      <td>Daytona Beach News-Journal, 5/6/2021</td>\n",
       "      <td>2021.05.05-Daytona.pdf</td>\n",
       "      <td>http://sharkattackfile.net/spreadsheets/pdf_di...</td>\n",
       "      <td>http://sharkattackfile.net/spreadsheets/pdf_di...</td>\n",
       "      <td>2021.05.06</td>\n",
       "      <td>2021.05.06</td>\n",
       "      <td>6657.0</td>\n",
       "      <td>NaN</td>\n",
       "      <td>NaN</td>\n",
       "      <td>May</td>\n",
       "    </tr>\n",
       "    <tr>\n",
       "      <th>...</th>\n",
       "      <td>...</td>\n",
       "      <td>...</td>\n",
       "      <td>...</td>\n",
       "      <td>...</td>\n",
       "      <td>...</td>\n",
       "      <td>...</td>\n",
       "      <td>...</td>\n",
       "      <td>...</td>\n",
       "      <td>...</td>\n",
       "      <td>...</td>\n",
       "      <td>...</td>\n",
       "      <td>...</td>\n",
       "      <td>...</td>\n",
       "      <td>...</td>\n",
       "      <td>...</td>\n",
       "      <td>...</td>\n",
       "      <td>...</td>\n",
       "      <td>...</td>\n",
       "      <td>...</td>\n",
       "      <td>...</td>\n",
       "      <td>...</td>\n",
       "    </tr>\n",
       "    <tr>\n",
       "      <th>6001</th>\n",
       "      <td>1914-05-14</td>\n",
       "      <td>1914.0</td>\n",
       "      <td>Provoked</td>\n",
       "      <td>USA</td>\n",
       "      <td>Florida</td>\n",
       "      <td>Boca Ciega Bay, Pinellas County</td>\n",
       "      <td>Fishing</td>\n",
       "      <td>Mrs. A.L. Cummings</td>\n",
       "      <td>F</td>\n",
       "      <td>NaN</td>\n",
       "      <td>...</td>\n",
       "      <td>Evening Independent, 5/14/1914, p.1</td>\n",
       "      <td>1914.05.14-Cummings.pdf</td>\n",
       "      <td>http://sharkattackfile.net/spreadsheets/pdf_di...</td>\n",
       "      <td>http://sharkattackfile.net/spreadsheets/pdf_di...</td>\n",
       "      <td>1914.05.14</td>\n",
       "      <td>1914.05.14</td>\n",
       "      <td>971.0</td>\n",
       "      <td>NaN</td>\n",
       "      <td>NaN</td>\n",
       "      <td>May</td>\n",
       "    </tr>\n",
       "    <tr>\n",
       "      <th>6020</th>\n",
       "      <td>1913-05-21</td>\n",
       "      <td>1913.0</td>\n",
       "      <td>Provoked</td>\n",
       "      <td>USA</td>\n",
       "      <td>Florida</td>\n",
       "      <td>John's Pass, Pinellas County</td>\n",
       "      <td>Fishing</td>\n",
       "      <td>George Roberts</td>\n",
       "      <td>M</td>\n",
       "      <td>NaN</td>\n",
       "      <td>...</td>\n",
       "      <td>Evening Independent, 5/22/1913</td>\n",
       "      <td>1913.05.21-Roberts.pdf</td>\n",
       "      <td>http://sharkattackfile.net/spreadsheets/pdf_di...</td>\n",
       "      <td>http://sharkattackfile.net/spreadsheets/pdf_di...</td>\n",
       "      <td>1913.05.21</td>\n",
       "      <td>1913.05.21</td>\n",
       "      <td>952.0</td>\n",
       "      <td>NaN</td>\n",
       "      <td>NaN</td>\n",
       "      <td>May</td>\n",
       "    </tr>\n",
       "    <tr>\n",
       "      <th>6100</th>\n",
       "      <td>1908-05-10</td>\n",
       "      <td>1908.0</td>\n",
       "      <td>Invalid</td>\n",
       "      <td>USA</td>\n",
       "      <td>Florida</td>\n",
       "      <td>Marathon, Monroe County</td>\n",
       "      <td>NaN</td>\n",
       "      <td>John C. Williams</td>\n",
       "      <td>M</td>\n",
       "      <td>NaN</td>\n",
       "      <td>...</td>\n",
       "      <td>Weekly Miami Metropolis, 5/11/1908</td>\n",
       "      <td>1908.05.10-Williams.pdf</td>\n",
       "      <td>http://sharkattackfile.net/spreadsheets/pdf_di...</td>\n",
       "      <td>http://sharkattackfile.net/spreadsheets/pdf_di...</td>\n",
       "      <td>1908.05.10</td>\n",
       "      <td>1908.05.10</td>\n",
       "      <td>872.0</td>\n",
       "      <td>NaN</td>\n",
       "      <td>NaN</td>\n",
       "      <td>May</td>\n",
       "    </tr>\n",
       "    <tr>\n",
       "      <th>6157</th>\n",
       "      <td>1905-05-22</td>\n",
       "      <td>1905.0</td>\n",
       "      <td>Unprovoked</td>\n",
       "      <td>USA</td>\n",
       "      <td>Florida</td>\n",
       "      <td>Pablo Beach, Jacksonville, Duval County</td>\n",
       "      <td>Swimming</td>\n",
       "      <td>Dunham Coxetter</td>\n",
       "      <td>M</td>\n",
       "      <td>NaN</td>\n",
       "      <td>...</td>\n",
       "      <td>Atlanta Constitution, 5/23/1905</td>\n",
       "      <td>1905.05.22.R-Coxetter.pdf</td>\n",
       "      <td>http://sharkattackfile.net/spreadsheets/pdf_di...</td>\n",
       "      <td>http://sharkattackfile.net/spreadsheets/pdf_di...</td>\n",
       "      <td>1905.05.22</td>\n",
       "      <td>1905.05.22</td>\n",
       "      <td>815.0</td>\n",
       "      <td>NaN</td>\n",
       "      <td>NaN</td>\n",
       "      <td>May</td>\n",
       "    </tr>\n",
       "    <tr>\n",
       "      <th>6657</th>\n",
       "      <td>1857-05-05</td>\n",
       "      <td>1857.0</td>\n",
       "      <td>Unprovoked</td>\n",
       "      <td>USA</td>\n",
       "      <td>Florida</td>\n",
       "      <td>Cape Sable, Monroe County</td>\n",
       "      <td>Swimming</td>\n",
       "      <td>Private Dunn</td>\n",
       "      <td>M</td>\n",
       "      <td>NaN</td>\n",
       "      <td>...</td>\n",
       "      <td>The Buffalo Commercial Advertiser, 5//18/1857</td>\n",
       "      <td>1857.05.05-Dunn.pdf</td>\n",
       "      <td>http://sharkattackfile.net/spreadsheets/pdf_di...</td>\n",
       "      <td>http://sharkattackfile.net/spreadsheets/pdf_di...</td>\n",
       "      <td>1857.05.05</td>\n",
       "      <td>1857.05.05</td>\n",
       "      <td>315.0</td>\n",
       "      <td>NaN</td>\n",
       "      <td>NaN</td>\n",
       "      <td>May</td>\n",
       "    </tr>\n",
       "  </tbody>\n",
       "</table>\n",
       "<p>94 rows × 24 columns</p>\n",
       "</div>"
      ],
      "text/plain": [
       "           Date    Year        Type Country    State  \\\n",
       "109  2023-05-19  2023.0    Provoked     USA  Florida   \n",
       "110  2023-05-18  2023.0  Unprovoked     USA  Florida   \n",
       "113  2023-05-11  2023.0  Unprovoked     USA  Florida   \n",
       "116  2023-05-05  2023.0  Unprovoked     USA  Florida   \n",
       "313  2021-05-06  2021.0  Unprovoked     USA  Florida   \n",
       "...         ...     ...         ...     ...      ...   \n",
       "6001 1914-05-14  1914.0    Provoked     USA  Florida   \n",
       "6020 1913-05-21  1913.0    Provoked     USA  Florida   \n",
       "6100 1908-05-10  1908.0     Invalid     USA  Florida   \n",
       "6157 1905-05-22  1905.0  Unprovoked     USA  Florida   \n",
       "6657 1857-05-05  1857.0  Unprovoked     USA  Florida   \n",
       "\n",
       "                                           Location      Activity  \\\n",
       "109   Flagship Drive, Summerland Key, Monroe County       Fishing   \n",
       "110                         Marathon, Monroe County  Spearfishing   \n",
       "113                   Fort Pierce, St. Lucie County       Sitting   \n",
       "116           Davis Reef, Islamorada, Monroe County  Spearfishing   \n",
       "313            Daytona Beach Shores, Volusia County        Wading   \n",
       "...                                             ...           ...   \n",
       "6001                Boca Ciega Bay, Pinellas County       Fishing   \n",
       "6020                   John's Pass, Pinellas County       Fishing   \n",
       "6100                        Marathon, Monroe County           NaN   \n",
       "6157        Pablo Beach, Jacksonville, Duval County      Swimming   \n",
       "6657                      Cape Sable, Monroe County      Swimming   \n",
       "\n",
       "                    Name Sex  Age  ...  \\\n",
       "109                 male   M   35  ...   \n",
       "110         Kevin Blanco   M   20  ...   \n",
       "113            Ella Reed   F   13  ...   \n",
       "116         Ethan Wilder   M   22  ...   \n",
       "313               female   F   21  ...   \n",
       "...                  ...  ..  ...  ...   \n",
       "6001  Mrs. A.L. Cummings   F  NaN  ...   \n",
       "6020      George Roberts   M  NaN  ...   \n",
       "6100    John C. Williams   M  NaN  ...   \n",
       "6157     Dunham Coxetter   M  NaN  ...   \n",
       "6657        Private Dunn   M  NaN  ...   \n",
       "\n",
       "                                             Source  \\\n",
       "109                                   AP, 5/19/2023   \n",
       "110                               J. Marchand, GSAF   \n",
       "113                               .A. Curriie, GSAF   \n",
       "116                                News19, 5/5/2023   \n",
       "313            Daytona Beach News-Journal, 5/6/2021   \n",
       "...                                             ...   \n",
       "6001            Evening Independent, 5/14/1914, p.1   \n",
       "6020                 Evening Independent, 5/22/1913   \n",
       "6100             Weekly Miami Metropolis, 5/11/1908   \n",
       "6157                Atlanta Constitution, 5/23/1905   \n",
       "6657  The Buffalo Commercial Advertiser, 5//18/1857   \n",
       "\n",
       "                            pdf  \\\n",
       "109                         NaN   \n",
       "110                         NaN   \n",
       "113                         NaN   \n",
       "116                         NaN   \n",
       "313      2021.05.05-Daytona.pdf   \n",
       "...                         ...   \n",
       "6001    1914.05.14-Cummings.pdf   \n",
       "6020     1913.05.21-Roberts.pdf   \n",
       "6100    1908.05.10-Williams.pdf   \n",
       "6157  1905.05.22.R-Coxetter.pdf   \n",
       "6657        1857.05.05-Dunn.pdf   \n",
       "\n",
       "                                           href formula  \\\n",
       "109                                                 NaN   \n",
       "110                                                 NaN   \n",
       "113                                                 NaN   \n",
       "116                                                 NaN   \n",
       "313   http://sharkattackfile.net/spreadsheets/pdf_di...   \n",
       "...                                                 ...   \n",
       "6001  http://sharkattackfile.net/spreadsheets/pdf_di...   \n",
       "6020  http://sharkattackfile.net/spreadsheets/pdf_di...   \n",
       "6100  http://sharkattackfile.net/spreadsheets/pdf_di...   \n",
       "6157  http://sharkattackfile.net/spreadsheets/pdf_di...   \n",
       "6657  http://sharkattackfile.net/spreadsheets/pdf_di...   \n",
       "\n",
       "                                                   href Case Number  \\\n",
       "109                                                 NaN         NaN   \n",
       "110                                                 NaN         NaN   \n",
       "113                                                 NaN         NaN   \n",
       "116                                                 NaN         NaN   \n",
       "313   http://sharkattackfile.net/spreadsheets/pdf_di...  2021.05.06   \n",
       "...                                                 ...         ...   \n",
       "6001  http://sharkattackfile.net/spreadsheets/pdf_di...  1914.05.14   \n",
       "6020  http://sharkattackfile.net/spreadsheets/pdf_di...  1913.05.21   \n",
       "6100  http://sharkattackfile.net/spreadsheets/pdf_di...  1908.05.10   \n",
       "6157  http://sharkattackfile.net/spreadsheets/pdf_di...  1905.05.22   \n",
       "6657  http://sharkattackfile.net/spreadsheets/pdf_di...  1857.05.05   \n",
       "\n",
       "     Case Number.1 original order Unnamed: 21 Unnamed: 22 Month  \n",
       "109            NaN            NaN         NaN         NaN   May  \n",
       "110            NaN            NaN         NaN         NaN   May  \n",
       "113            NaN            NaN         NaN         NaN   May  \n",
       "116            NaN            NaN         NaN         NaN   May  \n",
       "313     2021.05.06         6657.0         NaN         NaN   May  \n",
       "...            ...            ...         ...         ...   ...  \n",
       "6001    1914.05.14          971.0         NaN         NaN   May  \n",
       "6020    1913.05.21          952.0         NaN         NaN   May  \n",
       "6100    1908.05.10          872.0         NaN         NaN   May  \n",
       "6157    1905.05.22          815.0         NaN         NaN   May  \n",
       "6657    1857.05.05          315.0         NaN         NaN   May  \n",
       "\n",
       "[94 rows x 24 columns]"
      ]
     },
     "metadata": {},
     "output_type": "display_data"
    },
    {
     "name": "stdout",
     "output_type": "stream",
     "text": [
      "Percentage 20.80 \n"
     ]
    }
   ],
   "source": [
    "# Get user input for location and month\n",
    "location = \"Florida\" # input(\"Enter the location you'd like to search for: \").strip().title()\n",
    "month_input = \"05\" # input(\"Enter the month (e.g., 'Aug', 'August', or '08'): \").strip()\n",
    "\n",
    "# Convert month input to a number\n",
    "month = get_month_number(month_input)\n",
    "\n",
    "# Check if the month is valid\n",
    "if month is None:\n",
    "    print(f\"Invalid month input: '{month_input}'\")\n",
    "else:\n",
    "    # Filter data by location and specified month (ignoring the year)\n",
    "    filtered_data = df_copy[\n",
    "        (df_copy['State'].str.contains(location, case=False, na=False)) &\n",
    "        (df_copy['Date'].dt.month == month)\n",
    "    ]\n",
    "\n",
    "    # Check if any records were found\n",
    "    if filtered_data.empty:\n",
    "        print(f\"No shark attack records found for location '{location}' in month '{month_input}'.\")\n",
    "    else:\n",
    "        print(f\"Shark attack records found for location '{location}' in month '{month_input}':\")\n",
    "        display(filtered_data)\n",
    "        print(\"Percentage %.2f \" % (100 * len(filtered_data) / len(df_copy)))\n"
   ]
  },
  {
   "cell_type": "code",
   "execution_count": null,
   "id": "75842a0e-9fac-4cf5-924d-a8e5d37bc363",
   "metadata": {},
   "outputs": [],
   "source": []
  }
 ],
 "metadata": {
  "kernelspec": {
   "display_name": "Python 3 (ipykernel)",
   "language": "python",
   "name": "python3"
  },
  "language_info": {
   "codemirror_mode": {
    "name": "ipython",
    "version": 3
   },
   "file_extension": ".py",
   "mimetype": "text/x-python",
   "name": "python",
   "nbconvert_exporter": "python",
   "pygments_lexer": "ipython3",
   "version": "3.12.4"
  }
 },
 "nbformat": 4,
 "nbformat_minor": 5
}
