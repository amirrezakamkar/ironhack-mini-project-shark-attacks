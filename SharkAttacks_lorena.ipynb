{
 "cells": [
  {
   "cell_type": "markdown",
   "id": "0dde90dd-91dd-4b19-9d43-a4ba3ebd9e6c",
   "metadata": {},
   "source": [
    "# Dealing with dates and years"
   ]
  },
  {
   "cell_type": "code",
   "execution_count": null,
   "id": "7e1a0e44-5eac-4b03-af0e-b8244fdc44bf",
   "metadata": {},
   "outputs": [],
   "source": [
    "import pandas as pd\n",
    "from datetime import datetime\n",
    "import re\n",
    "\n",
    "df = pd.read_excel(\"GSAF5.xls\")"
   ]
  },
  {
   "cell_type": "markdown",
   "id": "20ec9fc1-a8a5-422a-a4ed-da35df1a5ab5",
   "metadata": {},
   "source": [
    "## Normalize dates\n",
    "\n",
    "- `Reported` was removed from the date column\n",
    "- `Sept` is not an accepted `datetime` so it was replaced with `Sep`\n",
    "- There was a typo in one record `Nox` instead of `Nov`"
   ]
  },
  {
   "cell_type": "code",
   "execution_count": null,
   "id": "8ba7b368-7075-4953-a138-f6bedf8682ee",
   "metadata": {},
   "outputs": [],
   "source": [
    "def normalize_date(date):\n",
    "    if isinstance(date, datetime): return date\n",
    "    date = str(date).strip().lower()\n",
    "    date = date.replace(\"reported\", \"\")\n",
    "    date = date.replace(\"september\", \"sep\")\n",
    "    date = date.replace(\"sept\", \"sep\")\n",
    "    date = date.replace(\"nox\", \"nov\")\n",
    "    return date"
   ]
  },
  {
   "cell_type": "markdown",
   "id": "2286d155-f28d-4712-9ab7-8439fa8931fd",
   "metadata": {},
   "source": [
    "## Format dates\n",
    "\n",
    "### Defining regular expressions\n",
    "\n",
    "- **Short dates:** 30-Oct-2024 or similar\n",
    "- **Long dates:** 30-October-2024 or similar\n",
    "- **Years**: 4 consecutive numbers\n",
    "\n",
    "### Running regular expressions\n",
    "- If the date is already a Python `datetime` object, return the date as it is\n",
    "- First match long dates, short dates then years\n",
    "- Parse these dates into a Python `datetime` object\n",
    "- If there are any errors, return the date as it is"
   ]
  },
  {
   "cell_type": "code",
   "execution_count": null,
   "id": "41975f3e-2454-4e2f-8bc4-2e96999d9ccd",
   "metadata": {},
   "outputs": [],
   "source": [
    "any = \".*?\"\n",
    "numbers = \"[0-9]\"\n",
    "letters = \"[a-zA-Z]\"\n",
    "separators = \"[-\\\\s]\"\n",
    "\n",
    "short_date_regex = f\"^{any}({numbers}{1,2}){separators}+({letters}{3,4}){separators}+({numbers}{4}){any}$\"\n",
    "long_date_regex = f\"^{any}({numbers}{1,2}){separators}+({letters}{4,10}){separators}+({numbers}{4}){any}$\"\n",
    "\n",
    "year_regex = \"^[0-9]{4}$\"\n",
    "\n",
    "def match_date(regex, date):\n",
    "    match = re.search(regex, date)\n",
    "    if match:\n",
    "        day = long_match.group(1).zfill(2)\n",
    "        month = long_match.group(2)\n",
    "        year = long_match.group(3)\n",
    "        return datetime.strptime(f\"{day}/{month}/{year}\", \"%d/%B/%Y\")\n",
    "    return None\n",
    "\n",
    "def format_date(date):\n",
    "    if isinstance(date, datetime): return date\n",
    "\n",
    "    try:\n",
    "        long_date = match_date(long_date_regex, date)\n",
    "        if long_date: return long_date\n",
    "\n",
    "        short_date = match_date(short_date_regex, date)\n",
    "        if short_date: return short_date\n",
    "\n",
    "        year_match = re.search(year_regex, date)\n",
    "        if year_match: return None # datetime.strptime(year_match.group(0), \"%Y\")\n",
    "    except ValueError: return date"
   ]
  },
  {
   "cell_type": "markdown",
   "id": "ad9def05-2aeb-4d55-9ed7-91a8b8a94708",
   "metadata": {},
   "source": [
    "## Normalize years\n",
    "\n",
    "- For years greater than or equal to 1000, return them as they are\n",
    "- For dates between 100 and 999 (e.g. 950), add `1` to the beginning (e.g. 1950)\n",
    "- For dates between 25 and 99 (e.g. 93), add `19` to the beginning (e.g. 1993)\n",
    "- For dates between 10 and 24 (e.g. 24), add `20` to the beginning (e.g. 2024)\n",
    "- For dates between 0 and 9 (e.g. 4), add `200` to the beginning (e.g. 2004)"
   ]
  },
  {
   "cell_type": "code",
   "execution_count": null,
   "id": "200c2025-b889-4a35-b6ed-12162459c86e",
   "metadata": {},
   "outputs": [],
   "source": [
    "def normalize_year(year):\n",
    "    if year >= 1000: return year\n",
    "    if year >= 100: return float(f\"1{year}\")\n",
    "    if year >= 25: return float(f\"19{year}\")\n",
    "    if year >= 10: return float(f\"20{year}\")\n",
    "    if year >= 0: return float(f\"200{year}\")\n",
    "    return year"
   ]
  },
  {
   "cell_type": "markdown",
   "id": "aba22b4c-9201-4542-aed0-847485c7938f",
   "metadata": {},
   "source": [
    "## Infer years from dates\n",
    "\n",
    "If a year is missing and the date record is present, use the year part from the date column"
   ]
  },
  {
   "cell_type": "code",
   "execution_count": null,
   "id": "8ddec767-da5a-45bf-96c0-87636cd3f563",
   "metadata": {},
   "outputs": [],
   "source": [
    "def infer_year(row):\n",
    "    if pd.isnull(row.Year): row.Year = row.Date.year\n",
    "    return row"
   ]
  },
  {
   "cell_type": "markdown",
   "id": "c00934de-bfcf-45d7-87b3-fb0ca9e9b924",
   "metadata": {},
   "source": [
    "## Apply functions to DataFrame\n",
    "\n",
    "1. Normalize date\n",
    "2. Format date\n",
    "3. Drop empty dates otherwise\n",
    "4. Normalize year\n",
    "5. Infer year"
   ]
  },
  {
   "cell_type": "code",
   "execution_count": null,
   "id": "f2dee1e5-d847-4d19-a7de-10e65ecb01d4",
   "metadata": {},
   "outputs": [],
   "source": [
    "df_copy = df.copy()\n",
    "\n",
    "df_copy.Date = df_copy.Date.apply(normalize_date)\n",
    "df_copy.Date = df_copy.Date.apply(format_date)\n",
    "df_copy = df_copy.dropna(subset=\"Date\")\n",
    "\n",
    "df_copy.Year = df_copy.Year.apply(normalize_year)\n",
    "df_copy[[\"Date\", \"Year\"]] = df_copy[[\"Date\", \"Year\"]].apply(infer_year, axis=1)"
   ]
  },
  {
   "cell_type": "code",
   "execution_count": null,
   "id": "48d904ee-3722-4a16-87ba-4b963459d53b",
   "metadata": {},
   "outputs": [],
   "source": [
    "import re\n",
    "\n",
    "sharks_df = df_copy.copy()\n",
    "\n",
    "sharks_df['Country'] = sharks_df['Country'].str.split(' / ')\n",
    "\n",
    "#Explode the Country lists into separate rows\n",
    "sharks_df = sharks_df.explode('Country')\n",
    "sharks_df[\"Country\"].unique()\n",
    "#sharks_df[\"Country\"].nunique()\n",
    "\n",
    "#replace bad entries with a single country but too repetitive doesn't show true data cleaning\n",
    "sharks_df['Country'] = sharks_df['Country'].replace({'CEYLON (SRI LANKA)': 'Sri Lanka'})\n",
    "sharks_df['Country'] = sharks_df['Country'].replace({'ST HELENA, British overseas territory': 'Saint Helena'})\n",
    "\n",
    "\n",
    "\n",
    "sharks_df[\"Country\"] = sharks_df[\"Country\"].str.lower()\n",
    "sharks_df = sharks_df.dropna(subset=['Country'])\n",
    "\n",
    "#sharks_df[\"Country\"] = sharks_df[\"Country\"].replace({\"?\": \"\"})\n",
    "#Call method strip to strip off question marks at the end\n",
    "sharks_df['Country'] = sharks_df['Country'].str.strip('?')\n",
    "\n",
    "#call is in method to remove oceans+seas+continents\n",
    "\n",
    "# Wordslist to remove\n",
    "words_to_remove = ['Asia', 'Africa' , 'ocean' , 'sea']\n",
    "mask = ~sharks_df['Country'].isin(words_to_remove)\n",
    "#df_cleaned = df[mask]\n",
    "\n",
    "# Display cleaned DataFrame\n",
    "#print(\"\\nCleaned DataFrame:\")\n",
    "#print(df_cleaned)\n",
    "\n",
    "def month_grouping(date):\n",
    "    return date.strftime(\"%B\")\n",
    "\n",
    "#print(month_grouping(datetime(2024, 1, 1, 0, 0, 0)))\n",
    "#print(month_grouping(datetime(2024, 2, 1, 0, 0, 0)))\n",
    "#print(month_grouping(datetime(2024, 3, 1, 0, 0, 0)))\n",
    "\n",
    "sharks_df[\"Month\"] = sharks_df[\"Date\"].apply(month_grouping)\n",
    "\n",
    "sharks_df[\"Time\"].unique()\n",
    "\n",
    "time_df = sharks_df.copy()\n",
    "\n",
    "any = \".*?\"\n",
    "numbers = \"[0-9]\"\n",
    "letters = \"[a-zA-Z]\"\n",
    "separators = \"[hr\\\\s\\\\.]\"\n",
    "\n",
    "#long_time_regex = f\"({numbers}{1,2}){separators}*({numbers}{2})\"\n",
    "long_time_regex = \"([0-9]{1,2})[hr\\\\s\\\\.]*([0-9]{2})\"\n",
    "#short_time_regex = f\"({numbers}{1,2})\"\n",
    "short_time_regex = \"([0-9]{1,2})[hr\\\\s\\\\.]*\"\n",
    "\n",
    "def match_time(regex, time):\n",
    "    match = re.search(regex, time)\n",
    "    if match: return match\n",
    "    return None\n",
    "    #if match:\n",
    "    #    hours = match.group(1).zfill(2)\n",
    "    #    minutes = match.group(2)\n",
    "    #    return f\"{hours}:{minutes}\"\n",
    "    #return None\n",
    "    \n",
    "def sanitize_time(time):\n",
    "\n",
    "    if time in [\"Not advised\", \"Not stated\", \"?\"]: return None\n",
    "    if not isinstance(time, str): time = str(time)\n",
    "    \n",
    "    try:\n",
    "        long_time = match_time(long_time_regex, time)\n",
    "        if long_time:\n",
    "            hours = long_time.group(1).zfill(2)\n",
    "            minutes = long_time.group(2)\n",
    "            return f\"{hours}:{minutes}\"\n",
    "\n",
    "        short_time = match_time(short_time_regex, time)\n",
    "        if short_time:\n",
    "            hours = short_time.group(1).zfill(2)\n",
    "            return f\"{hours}:00\"\n",
    "\n",
    "        return None\n",
    "    except ValueError: return time\n",
    "\n",
    "time_df[\"Time\"].unique()\n",
    "time_df[\"Time\"].apply(sanitize_time).unique()\n",
    "\n",
    "\n",
    "# add time to Date column\n",
    "\n",
    "#sharks_df.pivot(index=[\"Date\", \"Country\", \"State\"], columns=\"Type\", values=\"Injury\")\n",
    "# sharks_df.pivot(index[\"State\", \"Month\"]).count().unstack()\n",
    "#grouped = sharks_df.groupby([\"State\", \"Country\"])[\"State\"].unique().unstack()\n",
    "\n",
    "#grouped"
   ]
  },
  {
   "cell_type": "code",
   "execution_count": null,
   "id": "267a25ff-6827-438a-92cb-d92a03e1e8e1",
   "metadata": {},
   "outputs": [],
   "source": []
  }
 ],
 "metadata": {
  "kernelspec": {
   "display_name": "Python 3 (ipykernel)",
   "language": "python",
   "name": "python3"
  },
  "language_info": {
   "codemirror_mode": {
    "name": "ipython",
    "version": 3
   },
   "file_extension": ".py",
   "mimetype": "text/x-python",
   "name": "python",
   "nbconvert_exporter": "python",
   "pygments_lexer": "ipython3",
   "version": "3.12.4"
  }
 },
 "nbformat": 4,
 "nbformat_minor": 5
}
