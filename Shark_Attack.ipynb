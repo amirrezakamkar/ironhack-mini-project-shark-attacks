{
 "cells": [
  {
   "cell_type": "markdown",
   "metadata": {
    "colab_type": "text",
    "id": "view-in-github"
   },
   "source": [
    "<a href=\"https://colab.research.google.com/github/markmorcos/ironhack-mini-project-shark-attacks/blob/main/Shark_Attack.ipynb\" target=\"_parent\"><img src=\"https://colab.research.google.com/assets/colab-badge.svg\" alt=\"Open In Colab\"/></a>"
   ]
  },
  {
   "cell_type": "code",
   "execution_count": 12,
   "metadata": {
    "id": "WLAKB9wkc3lc"
   },
   "outputs": [],
   "source": [
    "import pandas as pd\n",
    "\n",
    "df = pd.read_excel('https://www.sharkattackfile.net/spreadsheets/GSAF5.xls')"
   ]
  },
  {
   "cell_type": "code",
   "execution_count": 17,
   "metadata": {
    "colab": {
     "base_uri": "https://localhost:8080/"
    },
    "id": "B7kFBoHrdfmt",
    "outputId": "b1606bc7-39f8-4348-b1a6-39afe34d7dd1"
   },
   "outputs": [
    {
     "name": "stdout",
     "output_type": "stream",
     "text": [
      "                  Date    Year        Type   Country             State  \\\n",
      "0  2024-10-14 00:00:00  2024.0  Unprovoked  Honduras              Tela   \n",
      "1  2024-10-11 00:00:00  2024.0  Unprovoked       USA           Florida   \n",
      "2  2024-09-17 00:00:00  2024.0  Unprovoked  Honduras    Trujillo Colon   \n",
      "3  2024-09-16 00:00:00  2024.0  Unprovoked   Morocco  Southern Morocco   \n",
      "4  2024-08-26 00:00:00  2024.0  Unprovoked   Jamaica       Montego Bay   \n",
      "\n",
      "                 Location                     Activity  \\\n",
      "0               Atlantida                     Swimming   \n",
      "1  Brevard County Orlando                      Surfing   \n",
      "2         Puerto Castillo         Diving for shellfish   \n",
      "3          West of Dakhla  Swimming - jumped off yacht   \n",
      "4                Falmouth                 Spearfishing   \n",
      "\n",
      "                       Name Sex Age  ...                  Species   \\\n",
      "0  Roberto Carlose Bu Mejia   M  38  ...                Bull shark   \n",
      "1            Teddy Witteman   M  16  ...            Bull shark 6ft   \n",
      "2   Fernando Mendoza Ocampo   M  33  ...          Bull shark 6-7ft   \n",
      "3            German Tourist   F  30  ...  Reportedly a Great White   \n",
      "4              Jahmari Reid   M  16  ...    Reportedly Tiger Shark   \n",
      "\n",
      "                                             Source  pdf href formula href  \\\n",
      "0   Georgienne Bradley: Daily Mail UK: FTN News.com  NaN          NaN  NaN   \n",
      "1                  Todd SmithFlorida today: News 4:  NaN          NaN  NaN   \n",
      "2       Daily Mail UK: The Sun UK:  The World Watch  NaN          NaN  NaN   \n",
      "3        Andy Currie: Moroccan World News: Sky News  NaN          NaN  NaN   \n",
      "4  Todd Smith: Daily Mail UK: Sky News: People .com  NaN          NaN  NaN   \n",
      "\n",
      "  Case Number Case Number.1 original order Unnamed: 21 Unnamed: 22  \n",
      "0         NaN           NaN            NaN         NaN         NaN  \n",
      "1         NaN           NaN            NaN         NaN         NaN  \n",
      "2         NaN           NaN            NaN         NaN         NaN  \n",
      "3         NaN           NaN            NaN         NaN         NaN  \n",
      "4         NaN           NaN            NaN         NaN         NaN  \n",
      "\n",
      "[5 rows x 23 columns]\n",
      "\n",
      "<class 'pandas.core.frame.DataFrame'>\n",
      "RangeIndex: 6973 entries, 0 to 6972\n",
      "Data columns (total 23 columns):\n",
      " #   Column          Non-Null Count  Dtype  \n",
      "---  ------          --------------  -----  \n",
      " 0   Date            6973 non-null   object \n",
      " 1   Year            6971 non-null   float64\n",
      " 2   Type            6955 non-null   object \n",
      " 3   Country         6923 non-null   object \n",
      " 4   State           6491 non-null   object \n",
      " 5   Location        6408 non-null   object \n",
      " 6   Activity        6387 non-null   object \n",
      " 7   Name            6753 non-null   object \n",
      " 8   Sex             6394 non-null   object \n",
      " 9   Age             3978 non-null   object \n",
      " 10  Injury          6938 non-null   object \n",
      " 11  Unnamed: 11     6411 non-null   object \n",
      " 12  Time            3447 non-null   object \n",
      " 13  Species         3841 non-null   object \n",
      " 14  Source          6954 non-null   object \n",
      " 15  pdf             6799 non-null   object \n",
      " 16  href formula    6794 non-null   object \n",
      " 17  href            6796 non-null   object \n",
      " 18  Case Number     6798 non-null   object \n",
      " 19  Case Number.1   6797 non-null   object \n",
      " 20  original order  6799 non-null   float64\n",
      " 21  Unnamed: 21     1 non-null      object \n",
      " 22  Unnamed: 22     2 non-null      object \n",
      "dtypes: float64(2), object(21)\n",
      "memory usage: 1.2+ MB\n",
      "None\n",
      "\n",
      "          Date         Year        Type Country    State  \\\n",
      "count   6973.0  6971.000000        6955    6923     6491   \n",
      "unique  6024.0          NaN          12     235      916   \n",
      "top     1957.0          NaN  Unprovoked     USA  Florida   \n",
      "freq       9.0          NaN        5135    2551     1183   \n",
      "mean       NaN  1934.776359         NaN     NaN      NaN   \n",
      "std        NaN   272.413746         NaN     NaN      NaN   \n",
      "min        NaN     0.000000         NaN     NaN      NaN   \n",
      "25%        NaN  1947.000000         NaN     NaN      NaN   \n",
      "50%        NaN  1985.000000         NaN     NaN      NaN   \n",
      "75%        NaN  2009.000000         NaN     NaN      NaN   \n",
      "max        NaN  2026.000000         NaN     NaN      NaN   \n",
      "\n",
      "                                Location Activity  Name   Sex     Age  ...  \\\n",
      "count                               6408     6387  6753  6394  3978.0  ...   \n",
      "unique                              4537     1597  5711     8   245.0  ...   \n",
      "top     New Smyrna Beach, Volusia County  Surfing  male     M    16.0  ...   \n",
      "freq                                 191     1125   680  5599    92.0  ...   \n",
      "mean                                 NaN      NaN   NaN   NaN     NaN  ...   \n",
      "std                                  NaN      NaN   NaN   NaN     NaN  ...   \n",
      "min                                  NaN      NaN   NaN   NaN     NaN  ...   \n",
      "25%                                  NaN      NaN   NaN   NaN     NaN  ...   \n",
      "50%                                  NaN      NaN   NaN   NaN     NaN  ...   \n",
      "75%                                  NaN      NaN   NaN   NaN     NaN  ...   \n",
      "max                                  NaN      NaN   NaN   NaN     NaN  ...   \n",
      "\n",
      "           Species                            Source  \\\n",
      "count          3841                             6954   \n",
      "unique         1695                             5329   \n",
      "top     White shark  K. McMurray, TrackingSharks.com   \n",
      "freq            194                              131   \n",
      "mean            NaN                              NaN   \n",
      "std             NaN                              NaN   \n",
      "min             NaN                              NaN   \n",
      "25%             NaN                              NaN   \n",
      "50%             NaN                              NaN   \n",
      "75%             NaN                              NaN   \n",
      "max             NaN                              NaN   \n",
      "\n",
      "                              pdf  \\\n",
      "count                        6799   \n",
      "unique                       6789   \n",
      "top     1907.10.16.R-HongKong.pdf   \n",
      "freq                            2   \n",
      "mean                          NaN   \n",
      "std                           NaN   \n",
      "min                           NaN   \n",
      "25%                           NaN   \n",
      "50%                           NaN   \n",
      "75%                           NaN   \n",
      "max                           NaN   \n",
      "\n",
      "                                             href formula  \\\n",
      "count                                                6794   \n",
      "unique                                               6784   \n",
      "top     http://sharkattackfile.net/spreadsheets/pdf_di...   \n",
      "freq                                                    2   \n",
      "mean                                                  NaN   \n",
      "std                                                   NaN   \n",
      "min                                                   NaN   \n",
      "25%                                                   NaN   \n",
      "50%                                                   NaN   \n",
      "75%                                                   NaN   \n",
      "max                                                   NaN   \n",
      "\n",
      "                                                     href Case Number  \\\n",
      "count                                                6796        6798   \n",
      "unique                                               6776        6777   \n",
      "top     http://sharkattackfile.net/spreadsheets/pdf_di...  2021.07.23   \n",
      "freq                                                    4           2   \n",
      "mean                                                  NaN         NaN   \n",
      "std                                                   NaN         NaN   \n",
      "min                                                   NaN         NaN   \n",
      "25%                                                   NaN         NaN   \n",
      "50%                                                   NaN         NaN   \n",
      "75%                                                   NaN         NaN   \n",
      "max                                                   NaN         NaN   \n",
      "\n",
      "       Case Number.1 original order   Unnamed: 21 Unnamed: 22  \n",
      "count           6797    6799.000000             1           2  \n",
      "unique          6775            NaN             1           2  \n",
      "top     2012.09.02.b            NaN  stopped here      Teramo  \n",
      "freq               2            NaN             1           1  \n",
      "mean             NaN    3401.152081           NaN         NaN  \n",
      "std              NaN    1963.076319           NaN         NaN  \n",
      "min              NaN       2.000000           NaN         NaN  \n",
      "25%              NaN    1701.500000           NaN         NaN  \n",
      "50%              NaN    3401.000000           NaN         NaN  \n",
      "75%              NaN    5100.500000           NaN         NaN  \n",
      "max              NaN    6802.000000           NaN         NaN  \n",
      "\n",
      "[11 rows x 23 columns]\n",
      "\n",
      "Date              6024\n",
      "Year               261\n",
      "Type                12\n",
      "Country            235\n",
      "State              916\n",
      "Location          4537\n",
      "Activity          1597\n",
      "Name              5711\n",
      "Sex                  8\n",
      "Age                245\n",
      "Injury            4103\n",
      "Unnamed: 11         12\n",
      "Time               423\n",
      "Species           1695\n",
      "Source            5329\n",
      "pdf               6789\n",
      "href formula      6784\n",
      "href              6776\n",
      "Case Number       6777\n",
      "Case Number.1     6775\n",
      "original order    6797\n",
      "Unnamed: 21          1\n",
      "Unnamed: 22          2\n",
      "dtype: int64\n",
      "\n",
      "0       NaN\n",
      "1       NaN\n",
      "2       NaN\n",
      "3       NaN\n",
      "4       NaN\n",
      "       ... \n",
      "6968    NaN\n",
      "6969    NaN\n",
      "6970    NaN\n",
      "6971    NaN\n",
      "6972    NaN\n",
      "Name: Unnamed: 21, Length: 6973, dtype: object\n"
     ]
    }
   ],
   "source": [
    "print(df.head(), end=\"\\n\\n\")\n",
    "print(df.info(), end=\"\\n\\n\")\n",
    "print(df.describe(include=\"all\"), end=\"\\n\\n\")\n",
    "print(df.nunique(), end=\"\\n\\n\")\n",
    "\n",
    "print(df[\"Unnamed: 21\"])\n",
    "\n",
    "sharks_df=df\n"
   ]
  },
  {
   "cell_type": "code",
   "execution_count": 29,
   "metadata": {
    "colab": {
     "base_uri": "https://localhost:8080/"
    },
    "id": "CkdKZtyGJnRU",
    "outputId": "c5335f03-b6a1-41e2-a17c-6f0fbcb3b2f7"
   },
   "outputs": [
    {
     "data": {
      "text/plain": [
       "array(['honduras', 'usa', 'morocco', 'jamaica', 'belize', 'australia',\n",
       "       'maldive islands', 'turks and caicos', 'french polynesia',\n",
       "       'tobago', 'bahamas', 'india', 'trinidad', 'south africa', 'mexico',\n",
       "       'new zealand', 'egypt', 'philippines', 'coral sea', 'spain',\n",
       "       'portugal', 'samoa', 'colombia', 'ecuador', 'new caledonia',\n",
       "       'cuba', 'brazil', 'seychelles', 'argentina', 'fiji', 'maldives',\n",
       "       'england', 'japan', 'indonesia', 'thailand', 'columbia',\n",
       "       'costa rica', 'british overseas territory', 'canada', 'jordan',\n",
       "       'st kitts', 'nevis', 'st martin', 'papua new guinea',\n",
       "       'reunion island', 'israel', 'china', 'ireland', 'italy',\n",
       "       'malaysia', 'libya', 'mauritius', 'solomon islands',\n",
       "       'saint helena', 'comoros', 'reunion', 'united kingdom',\n",
       "       'united arab emirates', 'cape verde', 'dominican republic',\n",
       "       'cayman islands', 'aruba', 'mozambique', 'puerto rico',\n",
       "       'atlantic ocean', 'greece', 'st. martin', 'france',\n",
       "       'trinidad & tobago', 'kiribati', 'diego garcia', 'taiwan',\n",
       "       'palestinian territories', 'guam', 'nigeria', 'tonga', 'scotland',\n",
       "       'croatia', 'saudi arabia', 'chile', 'antigua', 'kenya', 'russia',\n",
       "       'turks & caicos', 'united arab emirates (uae)', 'azores',\n",
       "       'south korea', 'malta', 'vietnam', 'madagascar', 'panama',\n",
       "       'somalia', 'british virgin islands', 'norway', 'senegal', 'yemen',\n",
       "       'gulf of aden', 'sierra leone', 'st. maartin', 'grand cayman',\n",
       "       'liberia', 'vanuatu', 'mexico ', 'venezuela', 'sri lanka',\n",
       "       ' tonga', 'uruguay', 'micronesia', 'caribbean sea', 'okinawa',\n",
       "       'tanzania', 'marshall islands', 'northern arabian sea',\n",
       "       'hong kong', 'el salvador', 'angola', 'bermuda', 'montenegro',\n",
       "       'iran', 'tunisia', 'namibia', 'north atlantic ocean',\n",
       "       'south china sea', 'bangladesh', 'palau', 'western samoa',\n",
       "       'pacific ocean ', 'british isles', 'grenada', 'iraq', 'turkey',\n",
       "       'singapore', 'new britain', 'sudan', 'johnston island',\n",
       "       'south pacific ocean', 'new guinea', 'red sea',\n",
       "       'north pacific ocean', 'federated states of micronesia',\n",
       "       'mid atlantic ocean', 'admiralty islands', 'british west indies',\n",
       "       'south atlantic ocean', 'persian gulf', 'indian ocean',\n",
       "       'pacific ocean', 'north sea', 'nicaragua ', 'american samoa',\n",
       "       'andaman', 'nicobar islandas', 'gabon', 'mayotte',\n",
       "       'north atlantic ocean ', 'the balkans', 'martinique', 'guatemala',\n",
       "       'netherlands antilles', 'northern mariana islands', 'java',\n",
       "       ' philippines', 'nicaragua', 'central pacific',\n",
       "       'southwest pacific ocean', 'bay of bengal', 'mid-pacifc ocean',\n",
       "       'slovenia', 'curacao', 'iceland', 'barbados', 'monaco', 'guyana',\n",
       "       'haiti', 'san domingo', 'kuwait', 'yemen ', 'falkland islands',\n",
       "       'crete', 'cyprus', 'egypt ', 'west indies', 'burma', 'lebanon',\n",
       "       'paraguay', 'british new guinea', 'ceylon', 'ocean', 'georgia',\n",
       "       'syria', 'tuvalu', 'guinea', 'andaman islands',\n",
       "       'equatorial guinea', 'cameroon', 'cook islands', 'peru', 'africa',\n",
       "       'algeria', 'coast of africa', 'tasman sea', 'ghana', 'greenland',\n",
       "       'mediterranean sea', 'sweden', 'roatan',\n",
       "       'between portugal & india', 'djibouti', 'bahrein', 'korea', 'asia'],\n",
       "      dtype=object)"
      ]
     },
     "execution_count": 29,
     "metadata": {},
     "output_type": "execute_result"
    }
   ],
   "source": [
    "sharks_df['Country'] = sharks_df['Country'].str.split(' / ')\n",
    "\n",
    "#Explode the Country lists into separate rows\n",
    "sharks_df = sharks_df.explode('Country')\n",
    "sharks_df[\"Country\"].unique()\n",
    "#sharks_df[\"Country\"].nunique()\n",
    "\n",
    "#replace bad entries with a single country but too repetitive doesn't show true data cleaning\n",
    "sharks_df['Country'] = sharks_df['Country'].replace({'CEYLON (SRI LANKA)': 'Sri Lanka'})\n",
    "sharks_df['Country'] = sharks_df['Country'].replace({'ST HELENA, British overseas territory': 'Saint Helena'})\n",
    "\n",
    "\n",
    "\n",
    "sharks_df[\"Country\"] = sharks_df[\"Country\"].str.lower()\n",
    "sharks_df = sharks_df.dropna(subset=['Country'])\n",
    "\n",
    "#sharks_df[\"Country\"] = sharks_df[\"Country\"].replace({\"?\": \"\"})\n",
    "#Call method strip to strip off question marks at the end\n",
    "sharks_df['Country'] = sharks_df['Country'].str.strip('?')\n",
    "\n",
    "#call is in method to remove oceans+seas+continents\n",
    "\n",
    "# Wordslist to remove\n",
    "words_to_remove = ['Asia', 'Africa' , 'ocean' , 'sea']\n",
    "mask = ~sharks_df['Country'].isin(words_to_remove)\n",
    "#df_cleaned = df[mask]\n",
    "\n",
    "# Display cleaned DataFrame\n",
    "#print(\"\\nCleaned DataFrame:\")\n",
    "#print(df_cleaned)\n",
    "\n",
    "sharks_df[\"Country\"].unique()"
   ]
  },
  {
   "cell_type": "code",
   "execution_count": null,
   "metadata": {
    "id": "rS3DqIPyBcGU"
   },
   "outputs": [],
   "source": [
    "#this is a test"
   ]
  },
  {
   "cell_type": "code",
   "execution_count": null,
   "metadata": {},
   "outputs": [],
   "source": [
    "# this is another test"
   ]
  },
  {
   "cell_type": "code",
   "execution_count": null,
   "metadata": {
    "colab": {
     "base_uri": "https://localhost:8080/"
    },
    "id": "woktxI25te4F",
    "outputId": "70ada002-04ae-4333-8e50-8882841be5c7"
   },
   "outputs": [
    {
     "name": "stdout",
     "output_type": "stream",
     "text": [
      "Date               0.000000\n",
      "Year               0.028682\n",
      "Type               0.258139\n",
      "Country            0.717051\n",
      "State              6.912376\n",
      "Location           8.102682\n",
      "Activity           8.403843\n",
      "Name               3.155027\n",
      "Sex                8.303456\n",
      "Age               42.951384\n",
      "Injury             0.501936\n",
      "Unnamed: 11        8.059659\n",
      "Time              50.566471\n",
      "Species           44.916105\n",
      "Source             0.272480\n",
      "pdf                2.495339\n",
      "href formula       2.567044\n",
      "href               2.538362\n",
      "Case Number        2.509680\n",
      "Case Number.1      2.524021\n",
      "original order     2.495339\n",
      "Unnamed: 21       99.985659\n",
      "Unnamed: 22       99.971318\n",
      "dtype: float64\n"
     ]
    }
   ],
   "source": [
    "#find percentage for null//0 values\n",
    "df.isna().sum()\n",
    "print(df.isna().mean() * 100)"
   ]
  },
  {
   "cell_type": "code",
   "execution_count": 10,
   "metadata": {
    "colab": {
     "base_uri": "https://localhost:8080/",
     "height": 391
    },
    "id": "uxnJeWxhIITP",
    "outputId": "0c0f8d4f-7c9b-4400-c34b-9b1257c43a38"
   },
   "outputs": [
    {
     "ename": "TypeError",
     "evalue": "unhashable type: 'list'",
     "output_type": "error",
     "traceback": [
      "\u001b[0;31m---------------------------------------------------------------------------\u001b[0m",
      "\u001b[0;31mTypeError\u001b[0m                                 Traceback (most recent call last)",
      "\u001b[0;32m<ipython-input-10-4702fecbd22d>\u001b[0m in \u001b[0;36m<cell line: 3>\u001b[0;34m()\u001b[0m\n\u001b[1;32m      1\u001b[0m \u001b[0;31m#df['Country'] = df['Country'].str.strip().str.title()\u001b[0m\u001b[0;34m\u001b[0m\u001b[0;34m\u001b[0m\u001b[0m\n\u001b[1;32m      2\u001b[0m \u001b[0mdf\u001b[0m\u001b[0;34m[\u001b[0m\u001b[0;34m'Country'\u001b[0m\u001b[0;34m]\u001b[0m \u001b[0;34m=\u001b[0m \u001b[0mdf\u001b[0m\u001b[0;34m[\u001b[0m\u001b[0;34m'Country'\u001b[0m\u001b[0;34m]\u001b[0m\u001b[0;34m.\u001b[0m\u001b[0mstr\u001b[0m\u001b[0;34m.\u001b[0m\u001b[0msplit\u001b[0m\u001b[0;34m(\u001b[0m\u001b[0;34m'/'\u001b[0m\u001b[0;34m)\u001b[0m\u001b[0;34m\u001b[0m\u001b[0;34m\u001b[0m\u001b[0m\n\u001b[0;32m----> 3\u001b[0;31m \u001b[0mdf\u001b[0m\u001b[0;34m[\u001b[0m\u001b[0;34m'Country'\u001b[0m\u001b[0;34m]\u001b[0m\u001b[0;34m.\u001b[0m\u001b[0munique\u001b[0m\u001b[0;34m(\u001b[0m\u001b[0;34m)\u001b[0m\u001b[0;34m\u001b[0m\u001b[0;34m\u001b[0m\u001b[0m\n\u001b[0m",
      "\u001b[0;32m/usr/local/lib/python3.10/dist-packages/pandas/core/series.py\u001b[0m in \u001b[0;36munique\u001b[0;34m(self)\u001b[0m\n\u001b[1;32m   2405\u001b[0m         \u001b[0mCategories\u001b[0m \u001b[0;34m(\u001b[0m\u001b[0;36m3\u001b[0m\u001b[0;34m,\u001b[0m \u001b[0mobject\u001b[0m\u001b[0;34m)\u001b[0m\u001b[0;34m:\u001b[0m \u001b[0;34m[\u001b[0m\u001b[0;34m'a'\u001b[0m \u001b[0;34m<\u001b[0m \u001b[0;34m'b'\u001b[0m \u001b[0;34m<\u001b[0m \u001b[0;34m'c'\u001b[0m\u001b[0;34m]\u001b[0m\u001b[0;34m\u001b[0m\u001b[0;34m\u001b[0m\u001b[0m\n\u001b[1;32m   2406\u001b[0m         \"\"\"\n\u001b[0;32m-> 2407\u001b[0;31m         \u001b[0;32mreturn\u001b[0m \u001b[0msuper\u001b[0m\u001b[0;34m(\u001b[0m\u001b[0;34m)\u001b[0m\u001b[0;34m.\u001b[0m\u001b[0munique\u001b[0m\u001b[0;34m(\u001b[0m\u001b[0;34m)\u001b[0m\u001b[0;34m\u001b[0m\u001b[0;34m\u001b[0m\u001b[0m\n\u001b[0m\u001b[1;32m   2408\u001b[0m \u001b[0;34m\u001b[0m\u001b[0m\n\u001b[1;32m   2409\u001b[0m     \u001b[0;34m@\u001b[0m\u001b[0moverload\u001b[0m\u001b[0;34m\u001b[0m\u001b[0;34m\u001b[0m\u001b[0m\n",
      "\u001b[0;32m/usr/local/lib/python3.10/dist-packages/pandas/core/base.py\u001b[0m in \u001b[0;36munique\u001b[0;34m(self)\u001b[0m\n\u001b[1;32m   1023\u001b[0m             \u001b[0mresult\u001b[0m \u001b[0;34m=\u001b[0m \u001b[0mvalues\u001b[0m\u001b[0;34m.\u001b[0m\u001b[0munique\u001b[0m\u001b[0;34m(\u001b[0m\u001b[0;34m)\u001b[0m\u001b[0;34m\u001b[0m\u001b[0;34m\u001b[0m\u001b[0m\n\u001b[1;32m   1024\u001b[0m         \u001b[0;32melse\u001b[0m\u001b[0;34m:\u001b[0m\u001b[0;34m\u001b[0m\u001b[0;34m\u001b[0m\u001b[0m\n\u001b[0;32m-> 1025\u001b[0;31m             \u001b[0mresult\u001b[0m \u001b[0;34m=\u001b[0m \u001b[0malgorithms\u001b[0m\u001b[0;34m.\u001b[0m\u001b[0munique1d\u001b[0m\u001b[0;34m(\u001b[0m\u001b[0mvalues\u001b[0m\u001b[0;34m)\u001b[0m\u001b[0;34m\u001b[0m\u001b[0;34m\u001b[0m\u001b[0m\n\u001b[0m\u001b[1;32m   1026\u001b[0m         \u001b[0;32mreturn\u001b[0m \u001b[0mresult\u001b[0m\u001b[0;34m\u001b[0m\u001b[0;34m\u001b[0m\u001b[0m\n\u001b[1;32m   1027\u001b[0m \u001b[0;34m\u001b[0m\u001b[0m\n",
      "\u001b[0;32m/usr/local/lib/python3.10/dist-packages/pandas/core/algorithms.py\u001b[0m in \u001b[0;36munique\u001b[0;34m(values)\u001b[0m\n\u001b[1;32m    399\u001b[0m     \u001b[0marray\u001b[0m\u001b[0;34m(\u001b[0m\u001b[0;34m[\u001b[0m\u001b[0;34m(\u001b[0m\u001b[0;34m'a'\u001b[0m\u001b[0;34m,\u001b[0m \u001b[0;34m'b'\u001b[0m\u001b[0;34m)\u001b[0m\u001b[0;34m,\u001b[0m \u001b[0;34m(\u001b[0m\u001b[0;34m'b'\u001b[0m\u001b[0;34m,\u001b[0m \u001b[0;34m'a'\u001b[0m\u001b[0;34m)\u001b[0m\u001b[0;34m,\u001b[0m \u001b[0;34m(\u001b[0m\u001b[0;34m'a'\u001b[0m\u001b[0;34m,\u001b[0m \u001b[0;34m'c'\u001b[0m\u001b[0;34m)\u001b[0m\u001b[0;34m]\u001b[0m\u001b[0;34m,\u001b[0m \u001b[0mdtype\u001b[0m\u001b[0;34m=\u001b[0m\u001b[0mobject\u001b[0m\u001b[0;34m)\u001b[0m\u001b[0;34m\u001b[0m\u001b[0;34m\u001b[0m\u001b[0m\n\u001b[1;32m    400\u001b[0m     \"\"\"\n\u001b[0;32m--> 401\u001b[0;31m     \u001b[0;32mreturn\u001b[0m \u001b[0munique_with_mask\u001b[0m\u001b[0;34m(\u001b[0m\u001b[0mvalues\u001b[0m\u001b[0;34m)\u001b[0m\u001b[0;34m\u001b[0m\u001b[0;34m\u001b[0m\u001b[0m\n\u001b[0m\u001b[1;32m    402\u001b[0m \u001b[0;34m\u001b[0m\u001b[0m\n\u001b[1;32m    403\u001b[0m \u001b[0;34m\u001b[0m\u001b[0m\n",
      "\u001b[0;32m/usr/local/lib/python3.10/dist-packages/pandas/core/algorithms.py\u001b[0m in \u001b[0;36munique_with_mask\u001b[0;34m(values, mask)\u001b[0m\n\u001b[1;32m    438\u001b[0m     \u001b[0mtable\u001b[0m \u001b[0;34m=\u001b[0m \u001b[0mhashtable\u001b[0m\u001b[0;34m(\u001b[0m\u001b[0mlen\u001b[0m\u001b[0;34m(\u001b[0m\u001b[0mvalues\u001b[0m\u001b[0;34m)\u001b[0m\u001b[0;34m)\u001b[0m\u001b[0;34m\u001b[0m\u001b[0;34m\u001b[0m\u001b[0m\n\u001b[1;32m    439\u001b[0m     \u001b[0;32mif\u001b[0m \u001b[0mmask\u001b[0m \u001b[0;32mis\u001b[0m \u001b[0;32mNone\u001b[0m\u001b[0;34m:\u001b[0m\u001b[0;34m\u001b[0m\u001b[0;34m\u001b[0m\u001b[0m\n\u001b[0;32m--> 440\u001b[0;31m         \u001b[0muniques\u001b[0m \u001b[0;34m=\u001b[0m \u001b[0mtable\u001b[0m\u001b[0;34m.\u001b[0m\u001b[0munique\u001b[0m\u001b[0;34m(\u001b[0m\u001b[0mvalues\u001b[0m\u001b[0;34m)\u001b[0m\u001b[0;34m\u001b[0m\u001b[0;34m\u001b[0m\u001b[0m\n\u001b[0m\u001b[1;32m    441\u001b[0m         \u001b[0muniques\u001b[0m \u001b[0;34m=\u001b[0m \u001b[0m_reconstruct_data\u001b[0m\u001b[0;34m(\u001b[0m\u001b[0muniques\u001b[0m\u001b[0;34m,\u001b[0m \u001b[0moriginal\u001b[0m\u001b[0;34m.\u001b[0m\u001b[0mdtype\u001b[0m\u001b[0;34m,\u001b[0m \u001b[0moriginal\u001b[0m\u001b[0;34m)\u001b[0m\u001b[0;34m\u001b[0m\u001b[0;34m\u001b[0m\u001b[0m\n\u001b[1;32m    442\u001b[0m         \u001b[0;32mreturn\u001b[0m \u001b[0muniques\u001b[0m\u001b[0;34m\u001b[0m\u001b[0;34m\u001b[0m\u001b[0m\n",
      "\u001b[0;32mpandas/_libs/hashtable_class_helper.pxi\u001b[0m in \u001b[0;36mpandas._libs.hashtable.PyObjectHashTable.unique\u001b[0;34m()\u001b[0m\n",
      "\u001b[0;32mpandas/_libs/hashtable_class_helper.pxi\u001b[0m in \u001b[0;36mpandas._libs.hashtable.PyObjectHashTable._unique\u001b[0;34m()\u001b[0m\n",
      "\u001b[0;31mTypeError\u001b[0m: unhashable type: 'list'"
     ]
    }
   ],
   "source": [
    "#df['Country'] = df['Country'].str.strip().str.title()\n",
    "#df['Country'] = df['Country'].str.split('/').str[0]\n",
    "#df['Country'].unique()"
   ]
  },
  {
   "cell_type": "code",
   "execution_count": 14,
   "metadata": {
    "colab": {
     "base_uri": "https://localhost:8080/",
     "height": 211
    },
    "id": "wD0WO9EDJdY3",
    "outputId": "11ab7d53-d8ba-4add-df07-14acb05d5d52"
   },
   "outputs": [
    {
     "ename": "NameError",
     "evalue": "name 'sharks_df' is not defined",
     "output_type": "error",
     "traceback": [
      "\u001b[0;31m---------------------------------------------------------------------------\u001b[0m",
      "\u001b[0;31mNameError\u001b[0m                                 Traceback (most recent call last)",
      "\u001b[0;32m<ipython-input-14-46ab4fccc496>\u001b[0m in \u001b[0;36m<cell line: 1>\u001b[0;34m()\u001b[0m\n\u001b[0;32m----> 1\u001b[0;31m \u001b[0msharks_df\u001b[0m\u001b[0;34m[\u001b[0m\u001b[0;34m'Country'\u001b[0m\u001b[0;34m]\u001b[0m \u001b[0;34m=\u001b[0m \u001b[0msharks_df\u001b[0m\u001b[0;34m[\u001b[0m\u001b[0;34m'Country'\u001b[0m\u001b[0;34m]\u001b[0m\u001b[0;34m.\u001b[0m\u001b[0mstr\u001b[0m\u001b[0;34m.\u001b[0m\u001b[0msplit\u001b[0m\u001b[0;34m(\u001b[0m\u001b[0;34m' / '\u001b[0m\u001b[0;34m)\u001b[0m\u001b[0;34m\u001b[0m\u001b[0;34m\u001b[0m\u001b[0m\n\u001b[0m\u001b[1;32m      2\u001b[0m \u001b[0;34m\u001b[0m\u001b[0m\n\u001b[1;32m      3\u001b[0m \u001b[0;31m# Step 2: Explode the Country lists into separate rows\u001b[0m\u001b[0;34m\u001b[0m\u001b[0;34m\u001b[0m\u001b[0m\n\u001b[1;32m      4\u001b[0m \u001b[0msharks_df\u001b[0m \u001b[0;34m=\u001b[0m \u001b[0msharks_df\u001b[0m\u001b[0;34m.\u001b[0m\u001b[0mexplode\u001b[0m\u001b[0;34m(\u001b[0m\u001b[0;34m'Country'\u001b[0m\u001b[0;34m)\u001b[0m\u001b[0;34m\u001b[0m\u001b[0;34m\u001b[0m\u001b[0m\n\u001b[1;32m      5\u001b[0m \u001b[0msharks_df\u001b[0m\u001b[0;34m[\u001b[0m\u001b[0;34m\"Country\"\u001b[0m\u001b[0;34m]\u001b[0m\u001b[0;34m.\u001b[0m\u001b[0munique\u001b[0m\u001b[0;34m(\u001b[0m\u001b[0;34m)\u001b[0m\u001b[0;34m\u001b[0m\u001b[0;34m\u001b[0m\u001b[0m\n",
      "\u001b[0;31mNameError\u001b[0m: name 'sharks_df' is not defined"
     ]
    }
   ],
   "source": []
  }
 ],
 "metadata": {
  "colab": {
   "include_colab_link": true,
   "provenance": []
  },
  "kernelspec": {
   "display_name": "Python 3 (ipykernel)",
   "language": "python",
   "name": "python3"
  },
  "language_info": {
   "codemirror_mode": {
    "name": "ipython",
    "version": 3
   },
   "file_extension": ".py",
   "mimetype": "text/x-python",
   "name": "python",
   "nbconvert_exporter": "python",
   "pygments_lexer": "ipython3",
   "version": "3.12.4"
  }
 },
 "nbformat": 4,
 "nbformat_minor": 4
}
